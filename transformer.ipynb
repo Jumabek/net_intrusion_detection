{
  "cells": [
    {
      "cell_type": "code",
      "execution_count": null,
      "metadata": {
        "colab": {
          "base_uri": "https://localhost:8080/"
        },
        "id": "Vtu3TZYmXNlY",
        "outputId": "22889846-a404-46a6-97e6-bca45ee2ab35"
      },
      "outputs": [
        {
          "name": "stdout",
          "output_type": "stream",
          "text": [
            "Cloning into 'net_intrusion_detection'...\n",
            "remote: Enumerating objects: 251, done.\u001b[K\n",
            "remote: Counting objects: 100% (39/39), done.\u001b[K\n",
            "remote: Compressing objects: 100% (31/31), done.\u001b[K\n",
            "remote: Total 251 (delta 17), reused 23 (delta 8), pack-reused 212\u001b[K\n",
            "Receiving objects: 100% (251/251), 2.35 MiB | 24.59 MiB/s, done.\n",
            "Resolving deltas: 100% (150/150), done.\n"
          ]
        }
      ],
      "source": [
        "!git clone https://github.com/Jumabek/net_intrusion_detection.git"
      ]
    },
    {
      "cell_type": "code",
      "execution_count": null,
      "metadata": {
        "colab": {
          "base_uri": "https://localhost:8080/"
        },
        "id": "d9H1suspcZco",
        "outputId": "ea5a6407-1e3e-4996-ab63-c5b152666268"
      },
      "outputs": [
        {
          "name": "stdout",
          "output_type": "stream",
          "text": [
            "/content/net_intrusion_detection\n"
          ]
        }
      ],
      "source": [
        "%cd /content/net_intrusion_detection"
      ]
    },
    {
      "cell_type": "code",
      "execution_count": null,
      "metadata": {
        "colab": {
          "base_uri": "https://localhost:8080/"
        },
        "id": "X4rH1Hqbcb9D",
        "outputId": "36508fe8-3547-4c1f-d9d3-b2adecbf0088"
      },
      "outputs": [
        {
          "name": "stdout",
          "output_type": "stream",
          "text": [
            "/usr/local/lib/python3.10/dist-packages/gdown/cli.py:121: FutureWarning: Option `--id` was deprecated in version 4.3.1 and will be removed in 5.0. You don't need to pass it anymore to use a file ID.\n",
            "  warnings.warn(\n",
            "Downloading...\n",
            "From: https://drive.google.com/uc?id=1-t3RdDpmqMs4ABt9oobSapeNYTZJ9tpu\n",
            "To: /content/net_intrusion_detection/MachineLearningCSV.zip\n",
            "100% 235M/235M [00:04<00:00, 56.7MB/s]\n"
          ]
        }
      ],
      "source": [
        "!gdown --id 1-t3RdDpmqMs4ABt9oobSapeNYTZJ9tpu"
      ]
    },
    {
      "cell_type": "code",
      "execution_count": null,
      "metadata": {
        "colab": {
          "base_uri": "https://localhost:8080/"
        },
        "id": "MnwMJi9dcb6t",
        "outputId": "8b6d38d6-ad95-44c4-a3ae-7f0ef733c709"
      },
      "outputs": [
        {
          "name": "stdout",
          "output_type": "stream",
          "text": [
            "Archive:  MachineLearningCSV.zip\n",
            "   creating: MachineLearningCVE/\n",
            "  inflating: MachineLearningCVE/Wednesday-workingHours.pcap_ISCX.csv  \n",
            "  inflating: MachineLearningCVE/Tuesday-WorkingHours.pcap_ISCX.csv  \n",
            "  inflating: MachineLearningCVE/Thursday-WorkingHours-Morning-WebAttacks.pcap_ISCX.csv  \n",
            "  inflating: MachineLearningCVE/Thursday-WorkingHours-Afternoon-Infilteration.pcap_ISCX.csv  \n",
            "  inflating: MachineLearningCVE/Monday-WorkingHours.pcap_ISCX.csv  \n",
            "  inflating: MachineLearningCVE/Friday-WorkingHours-Morning.pcap_ISCX.csv  \n",
            "  inflating: MachineLearningCVE/Friday-WorkingHours-Afternoon-PortScan.pcap_ISCX.csv  \n",
            "  inflating: MachineLearningCVE/Friday-WorkingHours-Afternoon-DDos.pcap_ISCX.csv  \n"
          ]
        }
      ],
      "source": [
        "!unzip MachineLearningCSV.zip"
      ]
    },
    {
      "cell_type": "code",
      "execution_count": null,
      "metadata": {
        "id": "VZT4APPQcb4N"
      },
      "outputs": [],
      "source": [
        "from preprocessing import read_data\n",
        "\n",
        "def load_data(dataroot):\n",
        "    data = read_data(dataroot, '*.pcap_ISCX.csv')\n",
        "    num_records, num_features = data.shape\n",
        "    print(f\"There are {num_records} flow records with {num_features} feature dimensions\")\n",
        "\n",
        "    data = data.rename(columns=lambda x: x.strip())  # Strip whitespace from column names\n",
        "    return data"
      ]
    },
    {
      "cell_type": "code",
      "execution_count": null,
      "metadata": {
        "colab": {
          "base_uri": "https://localhost:8080/"
        },
        "id": "Zk1jAPNecb09",
        "outputId": "21839dd7-0e87-43b5-d11b-596189e11264"
      },
      "outputs": [
        {
          "name": "stdout",
          "output_type": "stream",
          "text": [
            "MachineLearningCVE/*.pcap_ISCX.csv\n",
            "['MachineLearningCVE/Friday-WorkingHours-Afternoon-DDos.pcap_ISCX.csv', 'MachineLearningCVE/Thursday-WorkingHours-Afternoon-Infilteration.pcap_ISCX.csv', 'MachineLearningCVE/Tuesday-WorkingHours.pcap_ISCX.csv', 'MachineLearningCVE/Friday-WorkingHours-Morning.pcap_ISCX.csv', 'MachineLearningCVE/Monday-WorkingHours.pcap_ISCX.csv', 'MachineLearningCVE/Thursday-WorkingHours-Morning-WebAttacks.pcap_ISCX.csv', 'MachineLearningCVE/Friday-WorkingHours-Afternoon-PortScan.pcap_ISCX.csv', 'MachineLearningCVE/Wednesday-workingHours.pcap_ISCX.csv']\n",
            "There are 2830743 flow records with 79 feature dimensions\n"
          ]
        }
      ],
      "source": [
        "data = load_data('MachineLearningCVE/')"
      ]
    },
    {
      "cell_type": "code",
      "execution_count": null,
      "metadata": {
        "id": "evtntzg2do3f"
      },
      "outputs": [],
      "source": [
        "import torch\n",
        "import torch.nn as nn\n",
        "import torch.optim as optim\n",
        "from torch.utils.data import Dataset, DataLoader\n",
        "from sklearn.metrics import classification_report\n",
        "import pandas as pd\n",
        "from sklearn.preprocessing import MinMaxScaler, StandardScaler, LabelEncoder\n",
        "import numpy as np"
      ]
    },
    {
      "cell_type": "code",
      "execution_count": null,
      "metadata": {
        "id": "wwLWbGG1cbye"
      },
      "outputs": [],
      "source": [
        "non_numeric_columns = data.columns.drop('Label')  # Excluding the label column\n",
        "data[non_numeric_columns] = data[non_numeric_columns].apply(pd.to_numeric, errors='coerce')\n",
        "\n",
        "# Replace infinite values with NaN and drop NaN values\n",
        "data.replace([np.inf, -np.inf], np.nan, inplace=True)\n",
        "data = data.dropna()\n",
        "\n",
        "# Update num_columns after converting non-Label columns to float\n",
        "num_columns = non_numeric_columns.tolist()\n",
        "\n",
        "X = data.drop(\"Label\", axis=1)\n",
        "y = data[\"Label\"]\n",
        "\n",
        "scaler = MinMaxScaler()\n",
        "X_scaled = scaler.fit_transform(X[num_columns])"
      ]
    },
    {
      "cell_type": "code",
      "execution_count": null,
      "metadata": {
        "id": "J1Dar0XCcbvx"
      },
      "outputs": [],
      "source": [
        "# Preprocess the labels\n",
        "label_encoder = LabelEncoder()\n",
        "y_encoded = label_encoder.fit_transform(y)"
      ]
    },
    {
      "cell_type": "code",
      "execution_count": null,
      "metadata": {
        "colab": {
          "base_uri": "https://localhost:8080/"
        },
        "id": "3H6TNN5dIjpx",
        "outputId": "a34ef30e-fdcc-4760-f793-57b3ad7f3960"
      },
      "outputs": [
        {
          "data": {
            "text/plain": [
              "array([2271320,    1956,  128025,   10293,  230124,    5499,    5796,\n",
              "          7935,      11,      36,  158804,    5897,    1507,      21,\n",
              "           652])"
            ]
          },
          "execution_count": 10,
          "metadata": {},
          "output_type": "execute_result"
        }
      ],
      "source": [
        "# Get the unique classes and their counts\n",
        "unique_classes, counts = np.unique(y_encoded, return_counts=True)\n",
        "counts"
      ]
    },
    {
      "cell_type": "code",
      "execution_count": null,
      "metadata": {
        "id": "5RNiJ6raJkoX"
      },
      "outputs": [],
      "source": [
        "desired_samples = counts.copy()\n",
        "desired_samples[desired_samples < 1100] = 1100  # Set the minimum number of samples to 1100\n",
        "\n",
        "# Create a dictionary with class labels as keys and desired_samples as values\n",
        "sampling_strategy = dict(zip(unique_classes, desired_samples))"
      ]
    },
    {
      "cell_type": "code",
      "execution_count": null,
      "metadata": {
        "id": "dlMnSGywISoQ"
      },
      "outputs": [],
      "source": [
        "from imblearn.over_sampling import RandomOverSampler\n",
        "\n",
        "# Assume X and y are the features and labels of the IDS2017 dataset\n",
        "\n",
        "# Apply RandomOverSampler\n",
        "ros = RandomOverSampler(random_state=42,sampling_strategy=sampling_strategy)\n",
        "X_resampled, y_resampled = ros.fit_resample(X_scaled, y_encoded)\n",
        "# Now you can proceed with splitting the data and creating DataLoaders as shown in previous examples"
      ]
    },
    {
      "cell_type": "code",
      "execution_count": null,
      "metadata": {
        "colab": {
          "base_uri": "https://localhost:8080/"
        },
        "id": "_fHWXusGIkbh",
        "outputId": "25f99076-2088-4770-8f2e-80497f701890"
      },
      "outputs": [
        {
          "data": {
            "text/plain": [
              "array([2271320,    1956,  128025,   10293,  230124,    5499,    5796,\n",
              "          7935,    1100,    1100,  158804,    5897,    1507,    1100,\n",
              "          1100])"
            ]
          },
          "execution_count": 13,
          "metadata": {},
          "output_type": "execute_result"
        }
      ],
      "source": [
        "import numpy as np\n",
        "\n",
        "# Get the unique classes and their counts\n",
        "unique_classes, counts = np.unique(y_resampled, return_counts=True)\n",
        "\n",
        "counts"
      ]
    },
    {
      "cell_type": "code",
      "execution_count": null,
      "metadata": {
        "id": "liEuO-fEcbng"
      },
      "outputs": [],
      "source": [
        "import torch\n",
        "import torch.nn as nn\n",
        "import torch.optim as optim\n",
        "from torch.utils.data import Dataset, DataLoader\n",
        "from sklearn.metrics import classification_report\n",
        "from sklearn.model_selection import train_test_split"
      ]
    },
    {
      "cell_type": "code",
      "execution_count": null,
      "metadata": {
        "id": "GWkq7w9TcbaM"
      },
      "outputs": [],
      "source": [
        "class IDS2017Dataset(Dataset):\n",
        "    def __init__(self, X, y):\n",
        "        self.X = torch.tensor(X, dtype=torch.float32)\n",
        "        self.y = torch.tensor(y, dtype=torch.long)\n",
        "\n",
        "    def __len__(self):\n",
        "        return len(self.X)\n",
        "\n",
        "    def __getitem__(self, idx):\n",
        "        return self.X[idx], self.y[idx]"
      ]
    },
    {
      "cell_type": "code",
      "execution_count": null,
      "metadata": {
        "id": "Ac9Qs-snc0wT"
      },
      "outputs": [],
      "source": [
        "class IDS2017Transformer(nn.Module):\n",
        "    def __init__(self, input_dim, d_model, nhead, num_layers, num_classes):\n",
        "        super(IDS2017Transformer, self).__init__()\n",
        "        self.embedding = nn.Linear(input_dim, d_model)\n",
        "        self.transformer = nn.Transformer(d_model, nhead, num_layers)\n",
        "        self.classifier = nn.Linear(d_model, num_classes)\n",
        "\n",
        "    def forward(self, x):\n",
        "        x = self.embedding(x)\n",
        "        x = self.transformer.encoder(x.unsqueeze(1))\n",
        "        x = x.squeeze(1)\n",
        "        x = self.classifier(x)\n",
        "        return x"
      ]
    },
    {
      "cell_type": "code",
      "execution_count": null,
      "metadata": {
        "id": "lNVMMyGQfuv5"
      },
      "outputs": [],
      "source": [
        "# X_train, X_test, y_train, y_test = train_test_split(X_resampled, y_resampled, test_size=0.2, random_state=42)\n",
        "import numpy as np\n",
        "import torch\n",
        "from torch.utils.data import Dataset, DataLoader, Subset\n",
        "from sklearn.model_selection import StratifiedKFold\n",
        "\n",
        "dataset = IDS2017Dataset(X_resampled,y_resampled)"
      ]
    },
    {
      "cell_type": "code",
      "execution_count": null,
      "metadata": {
        "id": "GwxN_DqIc4Tj"
      },
      "outputs": [],
      "source": [
        "# train_dataset = IDS2017Dataset(X_train, y_train)\n",
        "# test_dataset = IDS2017Dataset(X_test, y_test)\n",
        "\n",
        "# train_loader = DataLoader(train_dataset, batch_size=5*2014, shuffle=True)\n",
        "# test_loader = DataLoader(test_dataset, batch_size=5*1024, shuffle=False)\n",
        "n_splits = 5\n",
        "skf = StratifiedKFold(n_splits=n_splits, shuffle=True, random_state=42)"
      ]
    },
    {
      "cell_type": "code",
      "execution_count": null,
      "metadata": {
        "id": "KXDpLQSvTuZ-"
      },
      "outputs": [],
      "source": [
        "# import numpy as np\n",
        "device = torch.device('cuda' if torch.cuda.is_available() else 'cpu')\n",
        "# # Calculate the number of instances for each class\n",
        "# unique_classes, counts = np.unique(y_train, return_counts=True)\n",
        "\n",
        "# # Calculate the inverse of the class counts (you can also use other methods to calculate class weights)\n",
        "# class_weights = 1 / counts\n",
        "\n",
        "# # Normalize the class weights so that they sum up to 1\n",
        "# class_weights = class_weights / np.sum(class_weights)\n",
        "\n",
        "# # Convert the class weights to a PyTorch tensor\n",
        "# class_weights_tensor = torch.tensor(class_weights, dtype=torch.float).to(device)"
      ]
    },
    {
      "cell_type": "code",
      "execution_count": null,
      "metadata": {
        "colab": {
          "background_save": true,
          "base_uri": "https://localhost:8080/"
        },
        "id": "YG6xRksudBjl",
        "outputId": "51100d6e-7486-4d98-f599-ad8f4dd467c1"
      },
      "outputs": [
        {
          "name": "stdout",
          "output_type": "stream",
          "text": [
            "Fold 1:\n",
            "Epoch [1/5], Loss: 0.2301\n",
            "Epoch [2/5], Loss: 0.0917\n",
            "Epoch [3/5], Loss: 0.0686\n",
            "Epoch [4/5], Loss: 0.0688\n",
            "Epoch [5/5], Loss: 0.0514\n",
            "Metrics for Fold 1:\n",
            "F1 score: 0.8002\n",
            "Recall: 0.8365\n",
            "Accuracy: 0.8365\n",
            "Precision: 0.8203\n",
            "Fold 2:\n",
            "Epoch [1/5], Loss: 0.2226\n",
            "Epoch [2/5], Loss: 0.0875\n",
            "Epoch [3/5], Loss: 0.0624\n",
            "Epoch [4/5], Loss: 0.0558\n",
            "Epoch [5/5], Loss: 0.0485\n",
            "Metrics for Fold 2:\n",
            "F1 score: 0.8119\n",
            "Recall: 0.8397\n",
            "Accuracy: 0.8397\n",
            "Precision: 0.8093\n",
            "Fold 3:\n",
            "Epoch [1/5], Loss: 0.2172\n",
            "Epoch [2/5], Loss: 0.0859\n",
            "Epoch [3/5], Loss: 0.0631\n",
            "Epoch [4/5], Loss: 0.0535\n",
            "Epoch [5/5], Loss: 0.0505\n",
            "Metrics for Fold 3:\n",
            "F1 score: 0.8179\n",
            "Recall: 0.8470\n",
            "Accuracy: 0.8470\n",
            "Precision: 0.7973\n",
            "Fold 4:\n",
            "Epoch [1/5], Loss: 0.2256\n",
            "Epoch [2/5], Loss: 0.0957\n",
            "Epoch [3/5], Loss: 0.0696\n",
            "Epoch [4/5], Loss: 0.0553\n",
            "Epoch [5/5], Loss: 0.0502\n",
            "Metrics for Fold 4:\n",
            "F1 score: 0.8813\n",
            "Recall: 0.8889\n",
            "Accuracy: 0.8889\n",
            "Precision: 0.8815\n",
            "Fold 5:\n",
            "Epoch [1/5], Loss: 0.2165\n",
            "Epoch [2/5], Loss: 0.0934\n",
            "Epoch [3/5], Loss: 0.0695\n",
            "Epoch [4/5], Loss: 0.0539\n",
            "Epoch [5/5], Loss: 0.0519\n",
            "Metrics for Fold 5:\n",
            "F1 score: 0.8655\n",
            "Recall: 0.8775\n",
            "Accuracy: 0.8775\n",
            "Precision: 0.8726\n"
          ]
        }
      ],
      "source": [
        "from sklearn.metrics import classification_report, f1_score, recall_score, accuracy_score, precision_score\n",
        "\n",
        "num_epochs = 5\n",
        "\n",
        "f1_scores = []\n",
        "recall_scores = []\n",
        "accuracy_scores = []\n",
        "precision_scores = []\n",
        "\n",
        "for fold, (train_idx, test_idx) in enumerate(skf.split(X_resampled, y_resampled)):\n",
        "    train_dataset = Subset(dataset, train_idx)\n",
        "    test_dataset = Subset(dataset, test_idx)\n",
        "\n",
        "    train_loader = DataLoader(train_dataset, batch_size=7*1024, shuffle=True, num_workers=4)\n",
        "    test_loader = DataLoader(test_dataset, batch_size=7*1024, shuffle=False, num_workers=4)\n",
        "\n",
        "    # Initialize your model and optimizer for each fold\n",
        "    model = IDS2017Transformer(input_dim=X_resampled.shape[1], d_model=64, nhead=4, num_layers=2, num_classes=len(y.unique())).to(device)\n",
        "    model.to(device)\n",
        "    optimizer = optim.Adam(model.parameters(), lr=0.001)\n",
        "    criterion = nn.CrossEntropyLoss()\n",
        "\n",
        "    print(f\"Fold {fold + 1}:\")\n",
        "    for epoch in range(num_epochs):\n",
        "        model.train()\n",
        "        running_loss = 0.0\n",
        "        for i, (inputs, labels) in enumerate(train_loader):\n",
        "            inputs, labels = inputs.to(device), labels.to(device)\n",
        "\n",
        "            optimizer.zero_grad()\n",
        "\n",
        "            outputs = model(inputs)\n",
        "            loss = criterion(outputs, labels)\n",
        "            loss.backward()\n",
        "            optimizer.step()\n",
        "\n",
        "            running_loss += loss.item()\n",
        "\n",
        "        print(f'Epoch [{epoch + 1}/{num_epochs}], Loss: {running_loss / len(train_loader):.4f}')\n",
        "\n",
        "    # Evaluate your model on the test_loader\n",
        "    model.eval()\n",
        "    y_true, y_pred = [], []\n",
        "    with torch.no_grad():\n",
        "        for inputs, labels in test_loader:\n",
        "            inputs, labels = inputs.to(device), labels.to(device)\n",
        "            outputs = model(inputs)\n",
        "            _, predicted = torch.max(outputs, 1)\n",
        "            y_true.extend(labels.cpu().numpy())\n",
        "            y_pred.extend(predicted.cpu().numpy())\n",
        "\n",
        "    f1 = f1_score(y_true, y_pred, average='weighted', zero_division=1)\n",
        "    recall = recall_score(y_true, y_pred, average='weighted', zero_division=1)\n",
        "    accuracy = accuracy_score(y_true, y_pred)\n",
        "    precision = precision_score(y_true, y_pred, average='weighted', zero_division=1)\n",
        "\n",
        "    f1_scores.append(f1)\n",
        "    recall_scores.append(recall)\n",
        "    accuracy_scores.append(accuracy)\n",
        "    precision_scores.append(precision)\n",
        "\n",
        "    print(f\"Metrics for Fold {fold + 1}:\")\n",
        "    print(f\"F1 score: {f1:.4f}\")\n",
        "    print(f\"Recall: {recall:.4f}\")\n",
        "    print(f\"Accuracy: {accuracy:.4f}\")\n",
        "    print(f\"Precision: {precision:.4f}\")"
      ]
    },
    {
      "cell_type": "code",
      "execution_count": null,
      "metadata": {
        "colab": {
          "background_save": true
        },
        "id": "YW--KhiidEYW",
        "outputId": "13548843-31ab-4fa1-ce2c-588657f82a85"
      },
      "outputs": [
        {
          "name": "stdout",
          "output_type": "stream",
          "text": [
            "Average metrics:\n",
            "Average F1 score: 0.8354\n",
            "Average Recall: 0.8579\n",
            "Average Accuracy: 0.8579\n",
            "Average Precision: 0.8362\n"
          ]
        }
      ],
      "source": [
        "avg_f1 = np.mean(f1_scores)\n",
        "avg_recall = np.mean(recall_scores)\n",
        "avg_accuracy = np.mean(accuracy_scores)\n",
        "avg_precision = np.mean(precision_scores)\n",
        "\n",
        "print(\"Average metrics:\")\n",
        "print(f\"Average F1 score: {avg_f1:.4f}\")\n",
        "print(f\"Average Recall: {avg_recall:.4f}\")\n",
        "print(f\"Average Accuracy: {avg_accuracy:.4f}\")\n",
        "print(f\"Average Precision: {avg_precision:.4f}\")"
      ]
    },
    {
      "cell_type": "code",
      "execution_count": null,
      "metadata": {
        "colab": {
          "background_save": true
        },
        "id": "21gtatlUmbNz"
      },
      "outputs": [],
      "source": [
        "# import numpy as np\n",
        "\n",
        "# unique_classes, counts = np.unique(y_resampled, return_counts=True)\n",
        "# decoded_labels = label_encoder.inverse_transform(unique_classes)\n",
        "# proportions = counts / len(y_resampled)\n",
        "\n",
        "# for cls, prop in zip(decoded_labels, proportions):\n",
        "#     print(f\"Class {cls}: {prop:.4f}\")"
      ]
    },
    {
      "cell_type": "code",
      "execution_count": null,
      "metadata": {
        "colab": {
          "background_save": true
        },
        "id": "mU0AHiXxR6AQ"
      },
      "outputs": [],
      "source": []
    }
  ],
  "metadata": {
    "accelerator": "GPU",
    "colab": {
      "machine_shape": "hm",
      "provenance": []
    },
    "kernelspec": {
      "display_name": "Python 3",
      "name": "python3"
    },
    "language_info": {
      "name": "python"
    }
  },
  "nbformat": 4,
  "nbformat_minor": 0
}