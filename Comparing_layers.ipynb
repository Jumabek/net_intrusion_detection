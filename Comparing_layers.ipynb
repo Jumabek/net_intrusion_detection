{
  "nbformat": 4,
  "nbformat_minor": 0,
  "metadata": {
    "colab": {
      "provenance": [],
      "machine_shape": "hm",
      "gpuType": "A100",
      "authorship_tag": "ABX9TyOLtY6zoqEX4JW1uHh0CLts",
      "include_colab_link": true
    },
    "kernelspec": {
      "name": "python3",
      "display_name": "Python 3"
    },
    "language_info": {
      "name": "python"
    },
    "accelerator": "GPU"
  },
  "cells": [
    {
      "cell_type": "markdown",
      "metadata": {
        "id": "view-in-github",
        "colab_type": "text"
      },
      "source": [
        "<a href=\"https://colab.research.google.com/github/Jumabek/net_intrusion_detection/blob/transformer/Comparing_layers.ipynb\" target=\"_parent\"><img src=\"https://colab.research.google.com/assets/colab-badge.svg\" alt=\"Open In Colab\"/></a>"
      ]
    },
    {
      "cell_type": "code",
      "execution_count": null,
      "metadata": {
        "colab": {
          "base_uri": "https://localhost:8080/"
        },
        "id": "XwWz6ilhpiZP",
        "outputId": "e78302ea-140c-4983-ff7e-2c77d7397a9e"
      },
      "outputs": [
        {
          "output_type": "stream",
          "name": "stdout",
          "text": [
            "/usr/local/lib/python3.10/dist-packages/gdown/cli.py:121: FutureWarning: Option `--id` was deprecated in version 4.3.1 and will be removed in 5.0. You don't need to pass it anymore to use a file ID.\n",
            "  warnings.warn(\n",
            "Downloading...\n",
            "From: https://drive.google.com/uc?id=1-t3RdDpmqMs4ABt9oobSapeNYTZJ9tpu\n",
            "To: /content/MachineLearningCSV.zip\n",
            "100% 235M/235M [00:00<00:00, 247MB/s]\n",
            "Archive:  MachineLearningCSV.zip\n",
            "   creating: MachineLearningCVE/\n",
            "  inflating: MachineLearningCVE/Wednesday-workingHours.pcap_ISCX.csv  \n",
            "  inflating: MachineLearningCVE/Tuesday-WorkingHours.pcap_ISCX.csv  \n",
            "  inflating: MachineLearningCVE/Thursday-WorkingHours-Morning-WebAttacks.pcap_ISCX.csv  \n",
            "  inflating: MachineLearningCVE/Thursday-WorkingHours-Afternoon-Infilteration.pcap_ISCX.csv  \n",
            "  inflating: MachineLearningCVE/Monday-WorkingHours.pcap_ISCX.csv  \n",
            "  inflating: MachineLearningCVE/Friday-WorkingHours-Morning.pcap_ISCX.csv  \n",
            "  inflating: MachineLearningCVE/Friday-WorkingHours-Afternoon-PortScan.pcap_ISCX.csv  \n",
            "  inflating: MachineLearningCVE/Friday-WorkingHours-Afternoon-DDos.pcap_ISCX.csv  \n"
          ]
        }
      ],
      "source": [
        "!gdown --id 1-t3RdDpmqMs4ABt9oobSapeNYTZJ9tpu\n",
        "!unzip MachineLearningCSV.zip"
      ]
    },
    {
      "cell_type": "code",
      "source": [
        "!wget https://raw.githubusercontent.com/Jumabek/net_intrusion_detection/develop/preprocessing.py"
      ],
      "metadata": {
        "id": "Af0tJ7l-p2CY",
        "colab": {
          "base_uri": "https://localhost:8080/"
        },
        "outputId": "af2f25f6-fea4-4c2b-c9b9-15fb03917e59"
      },
      "execution_count": null,
      "outputs": [
        {
          "output_type": "stream",
          "name": "stdout",
          "text": [
            "--2023-08-06 03:38:46--  https://raw.githubusercontent.com/Jumabek/net_intrusion_detection/develop/preprocessing.py\n",
            "Resolving raw.githubusercontent.com (raw.githubusercontent.com)... 185.199.108.133, 185.199.109.133, 185.199.110.133, ...\n",
            "Connecting to raw.githubusercontent.com (raw.githubusercontent.com)|185.199.108.133|:443... connected.\n",
            "HTTP request sent, awaiting response... 200 OK\n",
            "Length: 3790 (3.7K) [text/plain]\n",
            "Saving to: ‘preprocessing.py’\n",
            "\n",
            "preprocessing.py    100%[===================>]   3.70K  --.-KB/s    in 0s      \n",
            "\n",
            "2023-08-06 03:38:46 (75.4 MB/s) - ‘preprocessing.py’ saved [3790/3790]\n",
            "\n"
          ]
        }
      ]
    },
    {
      "cell_type": "code",
      "source": [
        "import torch\n",
        "import torch.nn as nn\n",
        "import torch.optim as optim\n",
        "from torch.utils.data import DataLoader, TensorDataset\n",
        "from sklearn.model_selection import train_test_split\n",
        "from sklearn.preprocessing import LabelEncoder, StandardScaler\n",
        "from sklearn.metrics import accuracy_score\n",
        "from preprocessing import load_data, balance_data, normalize\n",
        "import pandas as pd\n",
        "import numpy as np\n",
        "from sklearn.metrics import accuracy_score, f1_score, precision_score, recall_score\n"
      ],
      "metadata": {
        "id": "eeo6lqjxp2Tp"
      },
      "execution_count": null,
      "outputs": []
    },
    {
      "cell_type": "code",
      "source": [
        "dataroot = 'MachineLearningCVE/'\n",
        "from preprocessing import read_data\n",
        "data = read_data(dataroot,'*.pcap_ISCX.csv')"
      ],
      "metadata": {
        "id": "Ek4o2P83p2WM",
        "colab": {
          "base_uri": "https://localhost:8080/"
        },
        "outputId": "02c51fa1-29f5-4988-b4ed-ef7dd943d27b"
      },
      "execution_count": null,
      "outputs": [
        {
          "output_type": "stream",
          "name": "stdout",
          "text": [
            "[########################################] | 100% Completed | 29.98 s\n"
          ]
        }
      ]
    },
    {
      "cell_type": "code",
      "source": [
        "# Load, balance and normalize the data\n",
        "X, y = load_data(dataroot)\n",
        "X, y = balance_data(X, y, seed=42)\n",
        "X = normalize(X)"
      ],
      "metadata": {
        "colab": {
          "base_uri": "https://localhost:8080/"
        },
        "id": "8dKxhYzgtiIh",
        "outputId": "063376bb-a84b-453a-a35d-cf13272680ce"
      },
      "execution_count": null,
      "outputs": [
        {
          "output_type": "stream",
          "name": "stdout",
          "text": [
            "[########################################] | 100% Completed | 29.63 s\n",
            "there are 2830743 flow records with 79 feature dimension\n",
            "stripped column names\n",
            "dropped bad columns\n",
            "There are 0 nan entries\n",
            "converted to numeric\n"
          ]
        }
      ]
    },
    {
      "cell_type": "code",
      "source": [
        "# Use only 10% of the data\n",
        "sample_idx = np.random.choice(len(X), int(0.1*len(X)), replace=False)\n",
        "X = X[sample_idx]\n",
        "y = y[sample_idx]\n"
      ],
      "metadata": {
        "id": "0FEhgqA-2cqS"
      },
      "execution_count": null,
      "outputs": []
    },
    {
      "cell_type": "code",
      "source": [
        "# Splitting the Data\n",
        "X_temp, X_test, y_temp, y_test = train_test_split(X, y, test_size=0.15, random_state=42)\n",
        "X_train, X_val, y_train, y_val = train_test_split(X_temp, y_temp, test_size=0.176, random_state=42)\n",
        "\n",
        "# Convert data to PyTorch tensors\n",
        "X_train_tensor = torch.tensor(X_train, dtype=torch.float32)\n",
        "y_train_tensor = torch.tensor(y_train, dtype=torch.long)\n",
        "X_test_tensor = torch.tensor(X_test, dtype=torch.float32)\n",
        "y_test_tensor = torch.tensor(y_test, dtype=torch.long)"
      ],
      "metadata": {
        "id": "TSIvlMOY4c4S"
      },
      "execution_count": null,
      "outputs": []
    },
    {
      "cell_type": "code",
      "source": [
        "class TransformerModel(nn.Module):\n",
        "    def __init__(self, input_dim, num_classes, d_model=64, nhead=8, num_layers=5, dim_feedforward=128, dropout=0.1):\n",
        "        super(TransformerModel, self).__init__()\n",
        "        self.embedding = nn.Linear(input_dim, d_model)\n",
        "        self.transformer = nn.Transformer(\n",
        "            d_model=d_model,\n",
        "            nhead=nhead,\n",
        "            num_encoder_layers=num_layers,\n",
        "            num_decoder_layers=num_layers,\n",
        "            dim_feedforward=dim_feedforward,\n",
        "            dropout=dropout\n",
        "        )\n",
        "        self.fc = nn.Linear(d_model, num_classes)\n",
        "\n",
        "    def forward(self, x):\n",
        "        x = self.embedding(x)\n",
        "        x = x.unsqueeze(1)  # Add a fake batch dimension for the transformer\n",
        "        x = self.transformer(x, x)  # Encoder-Decoder Self-Attention\n",
        "        x = x.squeeze(1)\n",
        "        x = self.fc(x)\n",
        "        return x\n",
        "\n",
        "\n",
        "def evaluate_model(model, data_loader):\n",
        "    model.eval()\n",
        "    true_labels = []\n",
        "    predicted_labels = []\n",
        "\n",
        "    with torch.no_grad():\n",
        "        for data, labels in data_loader:\n",
        "            data = data.cuda()\n",
        "            labels = labels.cuda()\n",
        "\n",
        "            outputs = model(data)\n",
        "            _, predicted = torch.max(outputs.data, 1)\n",
        "            true_labels.extend(labels.cpu().numpy())\n",
        "            predicted_labels.extend(predicted.cpu().numpy())\n",
        "\n",
        "    accuracy = accuracy_score(true_labels, predicted_labels)\n",
        "    f1 = f1_score(true_labels, predicted_labels, average='weighted')\n",
        "    precision = precision_score(true_labels, predicted_labels, average='weighted')\n",
        "    recall = recall_score(true_labels, predicted_labels, average='weighted')\n",
        "\n",
        "    return accuracy, f1, precision, recall\n"
      ],
      "metadata": {
        "id": "eR_OM02BtiXf"
      },
      "execution_count": null,
      "outputs": []
    },
    {
      "cell_type": "code",
      "source": [
        "def train_model(num_layers):\n",
        "    # Dataset and Dataloader\n",
        "    train_dataset = TensorDataset(X_train_tensor, y_train_tensor)\n",
        "    test_dataset = TensorDataset(X_test_tensor, y_test_tensor)\n",
        "    batch_size = 5120\n",
        "    train_loader = DataLoader(train_dataset, batch_size=batch_size, shuffle=True)\n",
        "\n",
        "    # Model Configuration\n",
        "    input_dim = X_train_tensor.shape[1]\n",
        "    num_classes = len(np.unique(y))\n",
        "    model = TransformerModel(input_dim, num_classes, num_layers=num_layers)\n",
        "    model = model.cuda()\n",
        "\n",
        "    # Loss and Optimizer\n",
        "    criterion = nn.CrossEntropyLoss()\n",
        "    optimizer = optim.Adam(model.parameters(), lr=0.001)\n",
        "\n",
        "    # Training Loop\n",
        "    for epoch in range(10):\n",
        "        model.train()\n",
        "        running_loss = 0.0\n",
        "        for i, (data, labels) in enumerate(train_loader):\n",
        "            data = data.cuda()\n",
        "            labels = labels.cuda()\n",
        "\n",
        "            outputs = model(data)\n",
        "            loss = criterion(outputs, labels)\n",
        "\n",
        "            optimizer.zero_grad()\n",
        "            loss.backward()\n",
        "            optimizer.step()\n",
        "\n",
        "            running_loss += loss.item()\n",
        "\n",
        "        print(f'Layers: {num_layers}, Epoch [{epoch + 1}/10], Loss: {running_loss / len(train_loader)}')\n",
        "    accuracy, f1, precision, recall = evaluate_model(model, DataLoader(test_dataset, batch_size=batch_size))\n",
        "    print(f'Layers: {num_layers}, Accuracy: {accuracy:.4f}, F1: {f1:.4f}, Precision: {precision:.4f}, Recall: {recall:.4f}')\n",
        "\n",
        "    return accuracy, f1, precision, recall\n",
        "\n"
      ],
      "metadata": {
        "id": "jD3eXfzYttPM"
      },
      "execution_count": null,
      "outputs": []
    },
    {
      "cell_type": "code",
      "source": [
        "# Lists to store metrics for each model configuration\n",
        "layers_list = [2, 3, 4, 5, 6]\n",
        "accuracies = []\n",
        "f1_scores = []\n",
        "precisions = []\n",
        "recalls = []\n",
        "\n",
        "for layers in layers_list:\n",
        "    acc, f1, prec, rec = train_model(layers)\n",
        "    accuracies.append(acc)\n",
        "    f1_scores.append(f1)\n",
        "    precisions.append(prec)\n",
        "    recalls.append(rec)\n"
      ],
      "metadata": {
        "colab": {
          "base_uri": "https://localhost:8080/"
        },
        "id": "XwD8dTJDA4b2",
        "outputId": "f8fd3eda-e0ab-4847-ab22-177e64f39bf1"
      },
      "execution_count": null,
      "outputs": [
        {
          "output_type": "stream",
          "name": "stdout",
          "text": [
            "Layers: 2, Epoch [1/10], Loss: 1.598756661781898\n",
            "Layers: 2, Epoch [2/10], Loss: 0.7164822908548208\n",
            "Layers: 2, Epoch [3/10], Loss: 0.48704511920611065\n",
            "Layers: 2, Epoch [4/10], Loss: 0.37513094147046405\n",
            "Layers: 2, Epoch [5/10], Loss: 0.3471635442513686\n",
            "Layers: 2, Epoch [6/10], Loss: 0.30851398140956193\n",
            "Layers: 2, Epoch [7/10], Loss: 0.2808661781824552\n",
            "Layers: 2, Epoch [8/10], Loss: 0.2659650093469864\n",
            "Layers: 2, Epoch [9/10], Loss: 0.2940063147972792\n",
            "Layers: 2, Epoch [10/10], Loss: 0.25406247950517213\n",
            "Layers: 2, Accuracy: 0.8830, F1: 0.8784, Precision: 0.8910, Recall: 0.8830\n",
            "Layers: 3, Epoch [1/10], Loss: 1.701884579964173\n",
            "Layers: 3, Epoch [2/10], Loss: 0.7019640971452762\n",
            "Layers: 3, Epoch [3/10], Loss: 0.4799267099453853\n",
            "Layers: 3, Epoch [4/10], Loss: 0.37222492007108837\n",
            "Layers: 3, Epoch [5/10], Loss: 0.3317685807362581\n",
            "Layers: 3, Epoch [6/10], Loss: 0.3026669720808665\n",
            "Layers: 3, Epoch [7/10], Loss: 0.301386113350208\n",
            "Layers: 3, Epoch [8/10], Loss: 0.2681795767484567\n",
            "Layers: 3, Epoch [9/10], Loss: 0.27542267701564693\n",
            "Layers: 3, Epoch [10/10], Loss: 0.2578784911296306\n",
            "Layers: 3, Accuracy: 0.8815, F1: 0.8645, Precision: 0.9171, Recall: 0.8815\n",
            "Layers: 4, Epoch [1/10], Loss: 1.7668269811532435\n",
            "Layers: 4, Epoch [2/10], Loss: 0.7258640374892797\n",
            "Layers: 4, Epoch [3/10], Loss: 0.48865559773567396\n",
            "Layers: 4, Epoch [4/10], Loss: 0.39018761271085495\n",
            "Layers: 4, Epoch [5/10], Loss: 0.33560106005424106\n",
            "Layers: 4, Epoch [6/10], Loss: 0.3175925138669136\n",
            "Layers: 4, Epoch [7/10], Loss: 0.30687920176065886\n",
            "Layers: 4, Epoch [8/10], Loss: 0.28112917297925705\n",
            "Layers: 4, Epoch [9/10], Loss: 0.2644622333538838\n",
            "Layers: 4, Epoch [10/10], Loss: 0.2510910125879141\n",
            "Layers: 4, Accuracy: 0.8938, F1: 0.8869, Precision: 0.9098, Recall: 0.8938\n",
            "Layers: 5, Epoch [1/10], Loss: 2.174590630409045\n",
            "Layers: 5, Epoch [2/10], Loss: 0.804925249173091\n",
            "Layers: 5, Epoch [3/10], Loss: 0.4974282552034427\n",
            "Layers: 5, Epoch [4/10], Loss: 0.3897897585844382\n",
            "Layers: 5, Epoch [5/10], Loss: 0.34676335484553605\n",
            "Layers: 5, Epoch [6/10], Loss: 0.31215311395816314\n",
            "Layers: 5, Epoch [7/10], Loss: 0.29108339777359593\n",
            "Layers: 5, Epoch [8/10], Loss: 0.2820018965464372\n",
            "Layers: 5, Epoch [9/10], Loss: 0.26605779773149735\n",
            "Layers: 5, Epoch [10/10], Loss: 0.25325553845136595\n",
            "Layers: 5, Accuracy: 0.8927, F1: 0.8789, Precision: 0.9221, Recall: 0.8927\n",
            "Layers: 6, Epoch [1/10], Loss: 2.6013099688750048\n",
            "Layers: 6, Epoch [2/10], Loss: 1.1725192008874354\n",
            "Layers: 6, Epoch [3/10], Loss: 0.591810480142251\n",
            "Layers: 6, Epoch [4/10], Loss: 0.4133836153226021\n",
            "Layers: 6, Epoch [5/10], Loss: 0.35656667672670805\n",
            "Layers: 6, Epoch [6/10], Loss: 0.33099571328896743\n",
            "Layers: 6, Epoch [7/10], Loss: 0.3041172317969493\n",
            "Layers: 6, Epoch [8/10], Loss: 0.2830948776159531\n",
            "Layers: 6, Epoch [9/10], Loss: 0.2673525500756044\n",
            "Layers: 6, Epoch [10/10], Loss: 0.26368375772084945\n",
            "Layers: 6, Accuracy: 0.8861, F1: 0.8693, Precision: 0.9189, Recall: 0.8861\n"
          ]
        }
      ]
    },
    {
      "cell_type": "code",
      "source": [
        "# Provided data\n",
        "layers_list = [2, 3, 4, 5, 6]\n",
        "accuracies = [0.8830012717253073, 0.8815175922000847, 0.8938109368376431, 0.892727615279544, 0.8861334840563327]\n",
        "f1_scores = [0.8784142045161335, 0.8645269833610872, 0.8869040490518022, 0.8789393042658686, 0.8693363664942275]\n",
        "precisions = [0.891003315227409, 0.917062796794138, 0.9097719647444211, 0.9220944437778784, 0.9189170160778739]\n",
        "recalls = [0.8830012717253073, 0.8815175922000847, 0.8938109368376431, 0.892727615279544, 0.8861334840563327]"
      ],
      "metadata": {
        "id": "rXW5zXSiIXdn"
      },
      "execution_count": null,
      "outputs": []
    },
    {
      "cell_type": "code",
      "source": [
        "# Plotting the metrics\n",
        "import matplotlib.pyplot as plt\n",
        "import numpy as np\n",
        "\n",
        "# Create an index for each tick position\n",
        "x_indexes = np.arange(len(layers_list))\n",
        "width = 0.15  # the width of the bars\n",
        "\n",
        "fig, ax = plt.subplots(figsize=(12, 6))\n",
        "\n",
        "# Generate bar graphs\n",
        "rects1 = ax.bar(x_indexes - 2 * width, accuracies, width, label='Accuracy')\n",
        "rects2 = ax.bar(x_indexes - width, f1_scores, width, label='F1 Score')\n",
        "rects3 = ax.bar(x_indexes, precisions, width, label='Precision')\n",
        "rects4 = ax.bar(x_indexes + width, recalls, width, label='Recall')\n",
        "\n",
        "# Add some text for labels, title and custom x-axis tick labels, etc.\n",
        "ax.set_xlabel('Number of Layers')\n",
        "ax.set_ylabel('Scores')\n",
        "ax.set_title('Scores by Number of Layers')\n",
        "ax.set_xticks(x_indexes)\n",
        "ax.set_xticklabels(layers_list)\n",
        "ax.legend()\n",
        "\n",
        "# Attach a text label above each bar in *rects*, displaying its height\n",
        "for rects in [rects1, rects2, rects3, rects4]:\n",
        "    for rect in rects:\n",
        "        height = rect.get_height()\n",
        "        ax.annotate('{:.2f}'.format(height),\n",
        "                    xy=(rect.get_x() + rect.get_width() / 2, height),\n",
        "                    xytext=(0, 3),  # 3 points vertical offset\n",
        "                    textcoords=\"offset points\",\n",
        "                    ha='center', va='bottom')\n",
        "\n",
        "fig.tight_layout()\n",
        "\n",
        "plt.show()\n"
      ],
      "metadata": {
        "colab": {
          "base_uri": "https://localhost:8080/",
          "height": 607
        },
        "id": "68qyi6xyttWp",
        "outputId": "ea62dcd1-b10f-49a7-88b2-0f515f824e40"
      },
      "execution_count": null,
      "outputs": [
        {
          "output_type": "display_data",
          "data": {
            "text/plain": [
              "<Figure size 1200x600 with 1 Axes>"
            ],
            "image/png": "[encoded data removed]"
          },
          "metadata": {}
        }
      ]
    },
    {
      "cell_type": "code",
      "source": [
        "print(\"layers_list:\", layers_list)\n",
        "print(\"accuracies:\", accuracies)\n",
        "print(\"f1_scores:\", f1_scores)\n",
        "print(\"precisions:\", precisions)\n",
        "print(\"recalls:\", recalls)"
      ],
      "metadata": {
        "colab": {
          "base_uri": "https://localhost:8080/"
        },
        "id": "Z1y9cyHGttZf",
        "outputId": "01da1768-e1a7-4fdd-9c87-b10f14c16552"
      },
      "execution_count": null,
      "outputs": [
        {
          "output_type": "stream",
          "name": "stdout",
          "text": [
            "layers_list: [2, 3, 4, 5, 6]\n",
            "accuracies: [0.8830012717253073, 0.8815175922000847, 0.8938109368376431, 0.892727615279544, 0.8861334840563327]\n",
            "f1_scores: [0.8784142045161335, 0.8645269833610872, 0.8869040490518022, 0.8789393042658686, 0.8693363664942275]\n",
            "precisions: [0.891003315227409, 0.917062796794138, 0.9097719647444211, 0.9220944437778784, 0.9189170160778739]\n",
            "recalls: [0.8830012717253073, 0.8815175922000847, 0.8938109368376431, 0.892727615279544, 0.8861334840563327]\n"
          ]
        }
      ]
    },
    {
      "cell_type": "code",
      "source": [],
      "metadata": {
        "id": "RoWZXvbw-bTW"
      },
      "execution_count": null,
      "outputs": []
    }
  ]
}