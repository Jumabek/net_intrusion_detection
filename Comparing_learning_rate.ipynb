{
  "cells": [
    {
      "cell_type": "markdown",
      "metadata": {
        "id": "view-in-github",
        "colab_type": "text"
      },
      "source": [
        "<a href=\"https://colab.research.google.com/github/Jumabek/net_intrusion_detection/blob/transformer/Comparing_learning_rate.ipynb\" target=\"_parent\"><img src=\"https://colab.research.google.com/assets/colab-badge.svg\" alt=\"Open In Colab\"/></a>"
      ]
    },
    {
      "cell_type": "code",
      "execution_count": null,
      "metadata": {
        "colab": {
          "base_uri": "https://localhost:8080/"
        },
        "id": "lkvOhT0eb_II",
        "outputId": "aeffe0a9-ab4f-413e-ee95-2d34610084f0"
      },
      "outputs": [
        {
          "output_type": "stream",
          "name": "stdout",
          "text": [
            "/usr/local/lib/python3.10/dist-packages/gdown/cli.py:121: FutureWarning: Option `--id` was deprecated in version 4.3.1 and will be removed in 5.0. You don't need to pass it anymore to use a file ID.\n",
            "  warnings.warn(\n",
            "Downloading...\n",
            "From: https://drive.google.com/uc?id=1-t3RdDpmqMs4ABt9oobSapeNYTZJ9tpu\n",
            "To: /content/MachineLearningCSV.zip\n",
            "100% 235M/235M [00:03<00:00, 61.8MB/s]\n",
            "Archive:  MachineLearningCSV.zip\n",
            "   creating: MachineLearningCVE/\n",
            "  inflating: MachineLearningCVE/Wednesday-workingHours.pcap_ISCX.csv  \n",
            "  inflating: MachineLearningCVE/Tuesday-WorkingHours.pcap_ISCX.csv  \n",
            "  inflating: MachineLearningCVE/Thursday-WorkingHours-Morning-WebAttacks.pcap_ISCX.csv  \n",
            "  inflating: MachineLearningCVE/Thursday-WorkingHours-Afternoon-Infilteration.pcap_ISCX.csv  \n",
            "  inflating: MachineLearningCVE/Monday-WorkingHours.pcap_ISCX.csv  \n",
            "  inflating: MachineLearningCVE/Friday-WorkingHours-Morning.pcap_ISCX.csv  \n",
            "  inflating: MachineLearningCVE/Friday-WorkingHours-Afternoon-PortScan.pcap_ISCX.csv  \n",
            "  inflating: MachineLearningCVE/Friday-WorkingHours-Afternoon-DDos.pcap_ISCX.csv  \n"
          ]
        }
      ],
      "source": [
        "!gdown --id 1-t3RdDpmqMs4ABt9oobSapeNYTZJ9tpu\n",
        "!unzip MachineLearningCSV.zip"
      ]
    },
    {
      "cell_type": "code",
      "execution_count": null,
      "metadata": {
        "id": "rl72XXBLcMOD",
        "colab": {
          "base_uri": "https://localhost:8080/"
        },
        "outputId": "94b08fdb-b463-4c49-f35a-6568d50efb01"
      },
      "outputs": [
        {
          "output_type": "stream",
          "name": "stdout",
          "text": [
            "--2023-08-06 14:12:48--  https://raw.githubusercontent.com/Jumabek/net_intrusion_detection/develop/preprocessing.py\n",
            "Resolving raw.githubusercontent.com (raw.githubusercontent.com)... 185.199.108.133, 185.199.109.133, 185.199.110.133, ...\n",
            "Connecting to raw.githubusercontent.com (raw.githubusercontent.com)|185.199.108.133|:443... connected.\n",
            "HTTP request sent, awaiting response... 200 OK\n",
            "Length: 3790 (3.7K) [text/plain]\n",
            "Saving to: ‘preprocessing.py’\n",
            "\n",
            "preprocessing.py    100%[===================>]   3.70K  --.-KB/s    in 0s      \n",
            "\n",
            "2023-08-06 14:12:48 (67.8 MB/s) - ‘preprocessing.py’ saved [3790/3790]\n",
            "\n"
          ]
        }
      ],
      "source": [
        "!wget https://raw.githubusercontent.com/Jumabek/net_intrusion_detection/develop/preprocessing.py"
      ]
    },
    {
      "cell_type": "code",
      "execution_count": null,
      "metadata": {
        "id": "aVhNaM7TcYIW"
      },
      "outputs": [],
      "source": [
        "import torch\n",
        "import torch.nn as nn\n",
        "import torch.optim as optim\n",
        "from torch.utils.data import DataLoader, TensorDataset\n",
        "from sklearn.model_selection import train_test_split\n",
        "from sklearn.preprocessing import LabelEncoder, StandardScaler\n",
        "from sklearn.metrics import accuracy_score\n",
        "from preprocessing import load_data, balance_data, normalize\n",
        "import pandas as pd\n",
        "import numpy as np\n",
        "from torch.optim import Adam, SGD, Adagrad, RMSprop, AdamW\n",
        "from sklearn.metrics import accuracy_score, precision_score, recall_score, f1_score"
      ]
    },
    {
      "cell_type": "code",
      "execution_count": null,
      "metadata": {
        "id": "AChAC5YdcdRT",
        "colab": {
          "base_uri": "https://localhost:8080/"
        },
        "outputId": "389b8519-2cca-4606-b646-54dec6bdeb0a"
      },
      "outputs": [
        {
          "output_type": "stream",
          "name": "stdout",
          "text": [
            "[########################################] | 100% Completed | 32.76 s\n"
          ]
        }
      ],
      "source": [
        "dataroot = 'MachineLearningCVE/'\n",
        "from preprocessing import read_data\n",
        "data = read_data(dataroot,'*.pcap_ISCX.csv')"
      ]
    },
    {
      "cell_type": "code",
      "execution_count": null,
      "metadata": {
        "colab": {
          "base_uri": "https://localhost:8080/"
        },
        "id": "TIAA8U5tcdUK",
        "outputId": "7fd4b2b6-0ce1-4db0-fe13-5999653e8399"
      },
      "outputs": [
        {
          "output_type": "stream",
          "name": "stdout",
          "text": [
            "[########################################] | 100% Completed | 32.20 s\n",
            "there are 2830743 flow records with 79 feature dimension\n",
            "stripped column names\n",
            "dropped bad columns\n",
            "There are 0 nan entries\n",
            "converted to numeric\n"
          ]
        }
      ],
      "source": [
        "# Load, balance and normalize the data\n",
        "X, y = load_data(dataroot)\n",
        "X, y = balance_data(X, y, seed=42)\n",
        "X = normalize(X)"
      ]
    },
    {
      "cell_type": "code",
      "execution_count": null,
      "metadata": {
        "id": "G8Ak0OEScdXM"
      },
      "outputs": [],
      "source": [
        "# Use only 10% of the data\n",
        "sample_idx = np.random.choice(len(X), int(0.1*len(X)), replace=False)\n",
        "X = X[sample_idx]\n",
        "y = y[sample_idx]"
      ]
    },
    {
      "cell_type": "code",
      "execution_count": null,
      "metadata": {
        "id": "zwg5cRbTcpFP"
      },
      "outputs": [],
      "source": [
        "# Split the data into training and remaining sets first\n",
        "X_temp, X_test, y_temp, y_test = train_test_split(X, y, test_size=0.15, random_state=42)\n",
        "\n",
        "# Split the remaining data into training and validation sets\n",
        "X_train, X_val, y_train, y_val = train_test_split(X_temp, y_temp, test_size=0.176, random_state=42)\n",
        "\n",
        "# Convert the data into PyTorch tensors\n",
        "X_train = torch.tensor(X_train, dtype=torch.float32)\n",
        "y_train = torch.tensor(y_train, dtype=torch.long)\n",
        "\n",
        "X_val = torch.tensor(X_val, dtype=torch.float32)\n",
        "y_val = torch.tensor(y_val, dtype=torch.long)\n",
        "\n",
        "X_test = torch.tensor(X_test, dtype=torch.float32)\n",
        "y_test = torch.tensor(y_test, dtype=torch.long)\n",
        "\n",
        "# Create PyTorch Datasets\n",
        "train_dataset = TensorDataset(X_train, y_train)\n",
        "test_dataset = TensorDataset(X_test, y_test)"
      ]
    },
    {
      "cell_type": "code",
      "execution_count": null,
      "metadata": {
        "id": "PntHU9xFcpH2"
      },
      "outputs": [],
      "source": [
        "class TransformerModel(nn.Module):\n",
        "    def __init__(self, input_dim, num_classes, d_model=64, nhead=8, num_layers=4, dim_feedforward=128, dropout=0.1):\n",
        "        super(TransformerModel, self).__init__()\n",
        "        self.embedding = nn.Linear(input_dim, d_model)\n",
        "        self.transformer = nn.Transformer(\n",
        "            d_model=d_model,\n",
        "            nhead=nhead,\n",
        "            num_encoder_layers=num_layers,\n",
        "            num_decoder_layers=num_layers,\n",
        "            dim_feedforward=dim_feedforward,\n",
        "            dropout=dropout\n",
        "        )\n",
        "        self.fc = nn.Linear(d_model, num_classes)\n",
        "\n",
        "    def forward(self, x):\n",
        "        x = self.embedding(x)\n",
        "        x = x.unsqueeze(1)  # Add a fake batch dimension for the transformer\n",
        "        x = self.transformer(x, x)  # Encoder-Decoder Self-Attention\n",
        "        x = x.squeeze(1)\n",
        "        x = self.fc(x)\n",
        "        return x\n",
        "\n",
        "\n",
        "def evaluate_model(model, data_loader):\n",
        "    model.eval()\n",
        "    true_labels = []\n",
        "    predicted_labels = []\n",
        "\n",
        "    with torch.no_grad():\n",
        "        for data, labels in data_loader:\n",
        "            data = data.cuda()\n",
        "            labels = labels.cuda()\n",
        "\n",
        "            outputs = model(data)\n",
        "            _, predicted = torch.max(outputs.data, 1)\n",
        "            true_labels.extend(labels.cpu().numpy())\n",
        "            predicted_labels.extend(predicted.cpu().numpy())\n",
        "\n",
        "    accuracy = accuracy_score(true_labels, predicted_labels)\n",
        "    f1 = f1_score(true_labels, predicted_labels, average='weighted')\n",
        "    precision = precision_score(true_labels, predicted_labels, average='weighted')\n",
        "    recall = recall_score(true_labels, predicted_labels, average='weighted')\n",
        "\n",
        "    return accuracy, f1, precision, recall\n"
      ]
    },
    {
      "cell_type": "code",
      "execution_count": null,
      "metadata": {
        "id": "ZjjprSRfcpKf"
      },
      "outputs": [],
      "source": [
        "def train_model(lr):\n",
        "    # Dataset and Dataloader\n",
        "    train_dataset = TensorDataset(X_train, y_train)\n",
        "    test_dataset = TensorDataset(X_test, y_test)\n",
        "    batch_size = 5120\n",
        "    train_loader = DataLoader(train_dataset, batch_size=batch_size, shuffle=True)\n",
        "\n",
        "    # Model Configuration\n",
        "    input_dim = X_train.shape[1]\n",
        "    num_classes = len(np.unique(y))\n",
        "    model = TransformerModel(input_dim, num_classes)\n",
        "    model = model.cuda()\n",
        "\n",
        "    # Loss and Optimizer\n",
        "    criterion = nn.CrossEntropyLoss()\n",
        "    optimizer = optim.Adam(model.parameters(), lr=lr)\n",
        "\n",
        "    # Training Loop\n",
        "    for epoch in range(10):\n",
        "        model.train()\n",
        "        running_loss = 0.0\n",
        "        for i, (data, labels) in enumerate(train_loader):\n",
        "            data = data.cuda()\n",
        "            labels = labels.cuda()\n",
        "\n",
        "            outputs = model(data)\n",
        "            loss = criterion(outputs, labels)\n",
        "\n",
        "            optimizer.zero_grad()\n",
        "            loss.backward()\n",
        "            optimizer.step()\n",
        "\n",
        "            running_loss += loss.item()\n",
        "\n",
        "        print(f'Learing rate: {lr}, Epoch [{epoch + 1}/10], Loss: {running_loss / len(train_loader)}')\n",
        "    accuracy, f1, precision, recall = evaluate_model(model, DataLoader(test_dataset, batch_size=batch_size))\n",
        "    print(f'Learing rate: {lr}, Accuracy: {accuracy:.4f}, F1: {f1:.4f}, Precision: {precision:.4f}, Recall: {recall:.4f}')\n",
        "\n",
        "    return accuracy, f1, precision, recall\n",
        "\n"
      ]
    },
    {
      "cell_type": "code",
      "execution_count": null,
      "metadata": {
        "id": "McDtqfgW9Seo",
        "colab": {
          "base_uri": "https://localhost:8080/"
        },
        "outputId": "b5c78223-f131-4b07-dd18-045be6d2ac81"
      },
      "outputs": [
        {
          "output_type": "stream",
          "name": "stdout",
          "text": [
            "Learing rate: 0.0001, Epoch [1/10], Loss: 2.470651993384728\n",
            "Learing rate: 0.0001, Epoch [2/10], Loss: 1.7502408302747285\n",
            "Learing rate: 0.0001, Epoch [3/10], Loss: 1.310731786947984\n",
            "Learing rate: 0.0001, Epoch [4/10], Loss: 1.078741764410948\n",
            "Learing rate: 0.0001, Epoch [5/10], Loss: 0.9300514062245687\n",
            "Learing rate: 0.0001, Epoch [6/10], Loss: 0.8190911503938528\n",
            "Learing rate: 0.0001, Epoch [7/10], Loss: 0.731632316723848\n",
            "Learing rate: 0.0001, Epoch [8/10], Loss: 0.6608830354152582\n",
            "Learing rate: 0.0001, Epoch [9/10], Loss: 0.6065138654831128\n",
            "Learing rate: 0.0001, Epoch [10/10], Loss: 0.5636062576220586\n",
            "Learing rate: 0.0001, Accuracy: 0.8266, F1: 0.8061, Precision: 0.8632, Recall: 0.8266\n",
            "Learing rate: 0.001, Epoch [1/10], Loss: 1.701875084485763\n",
            "Learing rate: 0.001, Epoch [2/10], Loss: 0.6946478363795158\n",
            "Learing rate: 0.001, Epoch [3/10], Loss: 0.4607597108070667\n",
            "Learing rate: 0.001, Epoch [4/10], Loss: 0.37355578404206496\n",
            "Learing rate: 0.001, Epoch [5/10], Loss: 0.3345693800693903\n",
            "Learing rate: 0.001, Epoch [6/10], Loss: 0.3030327780124469\n",
            "Learing rate: 0.001, Epoch [7/10], Loss: 0.2967511079250238\n",
            "Learing rate: 0.001, Epoch [8/10], Loss: 0.2729304088996007\n",
            "Learing rate: 0.001, Epoch [9/10], Loss: 0.2613290101289749\n",
            "Learing rate: 0.001, Epoch [10/10], Loss: 0.2539117905573967\n",
            "Learing rate: 0.001, Accuracy: 0.8758, F1: 0.8584, Precision: 0.9165, Recall: 0.8758\n",
            "Learing rate: 0.01, Epoch [1/10], Loss: 2.7457193289047632\n",
            "Learing rate: 0.01, Epoch [2/10], Loss: 2.712542258776151\n",
            "Learing rate: 0.01, Epoch [3/10], Loss: 2.7103209556677403\n",
            "Learing rate: 0.01, Epoch [4/10], Loss: 2.70986716563885\n",
            "Learing rate: 0.01, Epoch [5/10], Loss: 2.7094768499716735\n",
            "Learing rate: 0.01, Epoch [6/10], Loss: 2.709026825733674\n",
            "Learing rate: 0.01, Epoch [7/10], Loss: 2.708794495998285\n",
            "Learing rate: 0.01, Epoch [8/10], Loss: 2.70834765678797\n",
            "Learing rate: 0.01, Epoch [9/10], Loss: 2.7152006381597276\n",
            "Learing rate: 0.01, Epoch [10/10], Loss: 2.708728478505061\n"
          ]
        },
        {
          "output_type": "stream",
          "name": "stderr",
          "text": [
            "/usr/local/lib/python3.10/dist-packages/sklearn/metrics/_classification.py:1344: UndefinedMetricWarning: Precision is ill-defined and being set to 0.0 in labels with no predicted samples. Use `zero_division` parameter to control this behavior.\n",
            "  _warn_prf(average, modifier, msg_start, len(result))\n"
          ]
        },
        {
          "output_type": "stream",
          "name": "stdout",
          "text": [
            "Learing rate: 0.01, Accuracy: 0.0677, F1: 0.0086, Precision: 0.0046, Recall: 0.0677\n",
            "Learing rate: 0.1, Epoch [1/10], Loss: 3.285582255094479\n",
            "Learing rate: 0.1, Epoch [2/10], Loss: 2.7144474249619703\n",
            "Learing rate: 0.1, Epoch [3/10], Loss: 2.7102766587184024\n",
            "Learing rate: 0.1, Epoch [4/10], Loss: 2.7098875168042307\n",
            "Learing rate: 0.1, Epoch [5/10], Loss: 2.709821016360552\n",
            "Learing rate: 0.1, Epoch [6/10], Loss: 2.709790682181334\n",
            "Learing rate: 0.1, Epoch [7/10], Loss: 2.709741610747117\n",
            "Learing rate: 0.1, Epoch [8/10], Loss: 2.7092071496523342\n",
            "Learing rate: 0.1, Epoch [9/10], Loss: 2.70969881155552\n",
            "Learing rate: 0.1, Epoch [10/10], Loss: 2.7097876316461806\n",
            "Learing rate: 0.1, Accuracy: 0.0671, F1: 0.0084, Precision: 0.0045, Recall: 0.0671\n"
          ]
        },
        {
          "output_type": "stream",
          "name": "stderr",
          "text": [
            "/usr/local/lib/python3.10/dist-packages/sklearn/metrics/_classification.py:1344: UndefinedMetricWarning: Precision is ill-defined and being set to 0.0 in labels with no predicted samples. Use `zero_division` parameter to control this behavior.\n",
            "  _warn_prf(average, modifier, msg_start, len(result))\n"
          ]
        }
      ],
      "source": [
        "# Lists to store metrics for each model configuration\n",
        "lr_list = [0.0001, 0.001, 0.01, 0.1]\n",
        "accuracies = []\n",
        "f1_scores = []\n",
        "precisions = []\n",
        "recalls = []\n",
        "\n",
        "for lr in lr_list:\n",
        "    acc, f1, prec, rec = train_model(lr)\n",
        "    accuracies.append(acc)\n",
        "    f1_scores.append(f1)\n",
        "    precisions.append(prec)\n",
        "    recalls.append(rec)\n"
      ]
    },
    {
      "cell_type": "code",
      "source": [
        "#Learing rate: 0.1, Accuracy: 0.0671, F1: 0.0084, Precision: 0.0045, Recall: 0.0671\n",
        "#Learing rate: 0.01, Accuracy: 0.0677, F1: 0.0086, Precision: 0.0046, Recall: 0.0677\n",
        "#Learing rate: 0.001, Accuracy: 0.8758, F1: 0.8584, Precision: 0.9165, Recall: 0.8758\n",
        "#Learing rate: 0.0001, Accuracy: 0.8266, F1: 0.8061, Precision: 0.8632, Recall: 0.8266"
      ],
      "metadata": {
        "id": "v-SLOMHbQLdo"
      },
      "execution_count": null,
      "outputs": []
    },
    {
      "cell_type": "code",
      "execution_count": null,
      "metadata": {
        "colab": {
          "base_uri": "https://localhost:8080/",
          "height": 607
        },
        "id": "-LnOtJtIcpNX",
        "outputId": "af025b9e-6531-4ec2-f858-3de48426e13c"
      },
      "outputs": [
        {
          "output_type": "display_data",
          "data": {
            "text/plain": [
              "<Figure size 1200x600 with 1 Axes>"
            ],
            "image/png": "[encoded data removed]"
          },
          "metadata": {}
        }
      ],
      "source": [
        "# Plotting the metrics\n",
        "import matplotlib.pyplot as plt\n",
        "import numpy as np\n",
        "\n",
        "# Create an index for each tick position\n",
        "x_indexes = np.arange(len(lr_list))\n",
        "width = 0.15  # the width of the bars\n",
        "\n",
        "fig, ax = plt.subplots(figsize=(12, 6))\n",
        "\n",
        "# Generate bar graphs\n",
        "rects1 = ax.bar(x_indexes - 2 * width, accuracies, width, label='Accuracy')\n",
        "rects2 = ax.bar(x_indexes - width, f1_scores, width, label='F1 Score')\n",
        "rects3 = ax.bar(x_indexes, precisions, width, label='Precision')\n",
        "rects4 = ax.bar(x_indexes + width, recalls, width, label='Recall')\n",
        "\n",
        "# Add some text for labels, title and custom x-axis tick labels, etc.\n",
        "ax.set_xlabel('Number of Layers')\n",
        "ax.set_ylabel('Scores')\n",
        "ax.set_title('Scores by Number of Layers')\n",
        "ax.set_xticks(x_indexes)\n",
        "ax.set_xticklabels(lr_list)\n",
        "ax.legend()\n",
        "\n",
        "# Attach a text label above each bar in *rects*, displaying its height\n",
        "for rects in [rects1, rects2, rects3, rects4]:\n",
        "    for rect in rects:\n",
        "        height = rect.get_height()\n",
        "        ax.annotate('{:.2f}'.format(height),\n",
        "                    xy=(rect.get_x() + rect.get_width() / 2, height),\n",
        "                    xytext=(0, 3),  # 3 points vertical offset\n",
        "                    textcoords=\"offset points\",\n",
        "                    ha='center', va='bottom')\n",
        "\n",
        "fig.tight_layout()\n",
        "\n",
        "plt.show()\n"
      ]
    },
    {
      "cell_type": "code",
      "execution_count": null,
      "metadata": {
        "id": "0OwjkHSEdBK9"
      },
      "outputs": [],
      "source": []
    },
    {
      "cell_type": "code",
      "execution_count": null,
      "metadata": {
        "id": "_YJXdaVadBIE"
      },
      "outputs": [],
      "source": []
    },
    {
      "cell_type": "code",
      "execution_count": null,
      "metadata": {
        "id": "KI5yh6K2dBFU"
      },
      "outputs": [],
      "source": []
    },
    {
      "cell_type": "code",
      "execution_count": null,
      "metadata": {
        "id": "8yeg018JdBC1"
      },
      "outputs": [],
      "source": []
    },
    {
      "cell_type": "code",
      "execution_count": null,
      "metadata": {
        "id": "qi32T10xcdaL"
      },
      "outputs": [],
      "source": []
    }
  ],
  "metadata": {
    "accelerator": "GPU",
    "colab": {
      "machine_shape": "hm",
      "provenance": [],
      "gpuType": "A100",
      "authorship_tag": "ABX9TyPsxq9EF9ROXBnYvBlIH+Yj",
      "include_colab_link": true
    },
    "kernelspec": {
      "display_name": "Python 3",
      "name": "python3"
    },
    "language_info": {
      "name": "python"
    }
  },
  "nbformat": 4,
  "nbformat_minor": 0
}