{
  "nbformat": 4,
  "nbformat_minor": 0,
  "metadata": {
    "colab": {
      "provenance": [],
      "machine_shape": "hm",
      "gpuType": "T4",
      "authorship_tag": "ABX9TyO5BmRRnZtSmH1i1hFsHZQ7",
      "include_colab_link": true
    },
    "kernelspec": {
      "name": "python3",
      "display_name": "Python 3"
    },
    "language_info": {
      "name": "python"
    },
    "accelerator": "GPU"
  },
  "cells": [
    {
      "cell_type": "markdown",
      "metadata": {
        "id": "view-in-github",
        "colab_type": "text"
      },
      "source": [
        "<a href=\"https://colab.research.google.com/github/Jumabek/net_intrusion_detection/blob/transformer/Comparing_otimizers.ipynb\" target=\"_parent\"><img src=\"https://colab.research.google.com/assets/colab-badge.svg\" alt=\"Open In Colab\"/></a>"
      ]
    },
    {
      "cell_type": "code",
      "execution_count": null,
      "metadata": {
        "colab": {
          "base_uri": "https://localhost:8080/"
        },
        "id": "C1eT_1tt_A2t",
        "outputId": "a120410e-9b7e-467a-a599-13776b3fab5a"
      },
      "outputs": [
        {
          "output_type": "stream",
          "name": "stdout",
          "text": [
            "/usr/local/lib/python3.10/dist-packages/gdown/cli.py:121: FutureWarning: Option `--id` was deprecated in version 4.3.1 and will be removed in 5.0. You don't need to pass it anymore to use a file ID.\n",
            "  warnings.warn(\n",
            "Downloading...\n",
            "From: https://drive.google.com/uc?id=1-t3RdDpmqMs4ABt9oobSapeNYTZJ9tpu\n",
            "To: /content/MachineLearningCSV.zip\n",
            "100% 235M/235M [00:01<00:00, 170MB/s]\n",
            "Archive:  MachineLearningCSV.zip\n",
            "   creating: MachineLearningCVE/\n",
            "  inflating: MachineLearningCVE/Wednesday-workingHours.pcap_ISCX.csv  \n",
            "  inflating: MachineLearningCVE/Tuesday-WorkingHours.pcap_ISCX.csv  \n",
            "  inflating: MachineLearningCVE/Thursday-WorkingHours-Morning-WebAttacks.pcap_ISCX.csv  \n",
            "  inflating: MachineLearningCVE/Thursday-WorkingHours-Afternoon-Infilteration.pcap_ISCX.csv  \n",
            "  inflating: MachineLearningCVE/Monday-WorkingHours.pcap_ISCX.csv  \n",
            "  inflating: MachineLearningCVE/Friday-WorkingHours-Morning.pcap_ISCX.csv  \n",
            "  inflating: MachineLearningCVE/Friday-WorkingHours-Afternoon-PortScan.pcap_ISCX.csv  \n",
            "  inflating: MachineLearningCVE/Friday-WorkingHours-Afternoon-DDos.pcap_ISCX.csv  \n"
          ]
        }
      ],
      "source": [
        "!gdown --id 1-t3RdDpmqMs4ABt9oobSapeNYTZJ9tpu\n",
        "!unzip MachineLearningCSV.zip"
      ]
    },
    {
      "cell_type": "code",
      "source": [
        "!wget https://raw.githubusercontent.com/Jumabek/net_intrusion_detection/develop/preprocessing.py"
      ],
      "metadata": {
        "colab": {
          "base_uri": "https://localhost:8080/"
        },
        "id": "NVs3swvx_UN6",
        "outputId": "60c1c5ee-cf70-46ba-ed17-9172d97544e8"
      },
      "execution_count": null,
      "outputs": [
        {
          "output_type": "stream",
          "name": "stdout",
          "text": [
            "--2023-08-06 03:57:26--  https://raw.githubusercontent.com/Jumabek/net_intrusion_detection/develop/preprocessing.py\n",
            "Resolving raw.githubusercontent.com (raw.githubusercontent.com)... 185.199.108.133, 185.199.109.133, 185.199.110.133, ...\n",
            "Connecting to raw.githubusercontent.com (raw.githubusercontent.com)|185.199.108.133|:443... connected.\n",
            "HTTP request sent, awaiting response... 200 OK\n",
            "Length: 3790 (3.7K) [text/plain]\n",
            "Saving to: ‘preprocessing.py’\n",
            "\n",
            "\rpreprocessing.py      0%[                    ]       0  --.-KB/s               \rpreprocessing.py    100%[===================>]   3.70K  --.-KB/s    in 0s      \n",
            "\n",
            "2023-08-06 03:57:26 (69.5 MB/s) - ‘preprocessing.py’ saved [3790/3790]\n",
            "\n"
          ]
        }
      ]
    },
    {
      "cell_type": "code",
      "source": [
        "import torch\n",
        "import torch.nn as nn\n",
        "import torch.optim as optim\n",
        "from torch.utils.data import DataLoader, TensorDataset\n",
        "from sklearn.model_selection import train_test_split\n",
        "from sklearn.preprocessing import LabelEncoder, StandardScaler\n",
        "from sklearn.metrics import accuracy_score\n",
        "from preprocessing import load_data, balance_data, normalize\n",
        "import pandas as pd\n",
        "import numpy as np\n",
        "from torch.optim import Adam, SGD, Adagrad, RMSprop, AdamW\n",
        "from sklearn.metrics import accuracy_score, precision_score, recall_score, f1_score"
      ],
      "metadata": {
        "id": "GhuMhVfs_WLb"
      },
      "execution_count": null,
      "outputs": []
    },
    {
      "cell_type": "code",
      "source": [
        "dataroot = 'MachineLearningCVE/'\n",
        "from preprocessing import read_data\n",
        "data = read_data(dataroot,'*.pcap_ISCX.csv')"
      ],
      "metadata": {
        "colab": {
          "base_uri": "https://localhost:8080/"
        },
        "id": "a0Rav3K3_Z-c",
        "outputId": "49de5a02-2e8b-4c18-e20f-eccb89f81ba4"
      },
      "execution_count": null,
      "outputs": [
        {
          "output_type": "stream",
          "name": "stdout",
          "text": [
            "[########################################] | 100% Completed | 29.19 s\n"
          ]
        }
      ]
    },
    {
      "cell_type": "code",
      "source": [
        "# Load, balance and normalize the data\n",
        "X, y = load_data(dataroot)\n",
        "X, y = balance_data(X, y, seed=42)\n",
        "X = normalize(X)"
      ],
      "metadata": {
        "colab": {
          "base_uri": "https://localhost:8080/"
        },
        "id": "nGQybLPl_iQ8",
        "outputId": "1cd75466-3d54-4fc9-d50d-67c628c52557"
      },
      "execution_count": null,
      "outputs": [
        {
          "output_type": "stream",
          "name": "stdout",
          "text": [
            "[########################################] | 100% Completed | 28.66 s\n",
            "there are 2830743 flow records with 79 feature dimension\n",
            "stripped column names\n",
            "dropped bad columns\n",
            "There are 0 nan entries\n",
            "converted to numeric\n"
          ]
        }
      ]
    },
    {
      "cell_type": "code",
      "source": [
        "# Use only 10% of the data\n",
        "sample_idx = np.random.choice(len(X), int(0.1*len(X)), replace=False)\n",
        "X = X[sample_idx]\n",
        "y = y[sample_idx]"
      ],
      "metadata": {
        "id": "3lFT3H4n_sbr"
      },
      "execution_count": null,
      "outputs": []
    },
    {
      "cell_type": "code",
      "source": [
        "# Split the data into training and remaining sets first\n",
        "X_temp, X_test, y_temp, y_test = train_test_split(X, y, test_size=0.15, random_state=42)\n",
        "\n",
        "# Split the remaining data into training and validation sets\n",
        "X_train, X_val, y_train, y_val = train_test_split(X_temp, y_temp, test_size=0.176, random_state=42)\n",
        "\n",
        "# Convert the data into PyTorch tensors\n",
        "X_train = torch.tensor(X_train, dtype=torch.float32)\n",
        "y_train = torch.tensor(y_train, dtype=torch.long)\n",
        "\n",
        "X_val = torch.tensor(X_val, dtype=torch.float32)\n",
        "y_val = torch.tensor(y_val, dtype=torch.long)\n",
        "\n",
        "X_test = torch.tensor(X_test, dtype=torch.float32)\n",
        "y_test = torch.tensor(y_test, dtype=torch.long)\n",
        "\n",
        "# Create PyTorch Datasets\n",
        "train_dataset = TensorDataset(X_train, y_train)\n",
        "test_dataset = TensorDataset(X_test, y_test)"
      ],
      "metadata": {
        "id": "tyfUsOMl_vlL"
      },
      "execution_count": null,
      "outputs": []
    },
    {
      "cell_type": "code",
      "source": [
        "class TransformerModel(nn.Module):\n",
        "    def __init__(self, input_dim, num_classes, d_model=64, nhead=8, num_layers=5, dim_feedforward=128, dropout=0.1):\n",
        "        super(TransformerModel, self).__init__()\n",
        "        self.embedding = nn.Linear(input_dim, d_model)\n",
        "        self.transformer = nn.Transformer(\n",
        "            d_model=d_model,\n",
        "            nhead=nhead,\n",
        "            num_encoder_layers=num_layers,\n",
        "            num_decoder_layers=num_layers,\n",
        "            dim_feedforward=dim_feedforward,\n",
        "            dropout=dropout\n",
        "        )\n",
        "        self.fc = nn.Linear(d_model, num_classes)\n",
        "\n",
        "    def forward(self, x):\n",
        "        x = self.embedding(x)\n",
        "        x = x.unsqueeze(1)  # Add a fake batch dimension for the transformer\n",
        "        x = self.transformer(x, x)  # Encoder-Decoder Self-Attention\n",
        "        x = x.squeeze(1)\n",
        "        x = self.fc(x)\n",
        "        return x\n",
        "\n",
        "\n",
        "def evaluate_model(model, data_loader):\n",
        "    model.eval()\n",
        "    true_labels = []\n",
        "    predicted_labels = []\n",
        "\n",
        "    with torch.no_grad():\n",
        "        for data, labels in data_loader:\n",
        "            data = data.cuda()\n",
        "            labels = labels.cuda()\n",
        "\n",
        "            outputs = model(data)\n",
        "            _, predicted = torch.max(outputs.data, 1)\n",
        "            true_labels.extend(labels.cpu().numpy())\n",
        "            predicted_labels.extend(predicted.cpu().numpy())\n",
        "\n",
        "    accuracy = accuracy_score(true_labels, predicted_labels)\n",
        "    f1 = f1_score(true_labels, predicted_labels, average='weighted')\n",
        "    precision = precision_score(true_labels, predicted_labels, average='weighted')\n",
        "    recall = recall_score(true_labels, predicted_labels, average='weighted')\n",
        "\n",
        "    return accuracy, f1, precision, recall\n"
      ],
      "metadata": {
        "id": "s3BguSpo_1cp"
      },
      "execution_count": null,
      "outputs": []
    },
    {
      "cell_type": "code",
      "source": [
        "def train_model(optimizer):\n",
        "    # Model Configuration\n",
        "    input_dim = X_train.shape[1]\n",
        "    num_classes = len(np.unique(y))\n",
        "    model = TransformerModel(input_dim, num_classes, num_layers=2)\n",
        "    model = model.cuda()\n",
        "\n",
        "    # Loss and Optimizer\n",
        "    criterion = nn.CrossEntropyLoss()\n",
        "    optimizer = optimizer(model.parameters(), lr=0.001)\n",
        "\n",
        "    # Dataloader with new batch size\n",
        "    batch_size = 5120\n",
        "    train_loader = DataLoader(train_dataset, batch_size=batch_size, shuffle=True)\n",
        "\n",
        "    # Training loop\n",
        "    for epoch in range(10):\n",
        "        model.train()\n",
        "        running_loss = 0.0\n",
        "        for i, (data, labels) in enumerate(train_loader):\n",
        "            data = data.cuda()  # Move data to GPU\n",
        "            labels = labels.cuda()  # Move labels to GPU\n",
        "\n",
        "            # Forward pass\n",
        "            outputs = model(data)\n",
        "            loss = criterion(outputs, labels)\n",
        "\n",
        "            # Backward and optimize\n",
        "            optimizer.zero_grad()\n",
        "            loss.backward()\n",
        "            optimizer.step()\n",
        "\n",
        "            running_loss += loss.item()\n",
        "\n",
        "        print(f'Optimizer: {optimizer.__class__.__name__}, Epoch [{epoch + 1}/10], Loss: {running_loss / len(train_loader):.4f}')\n",
        "\n",
        "    # Validation\n",
        "    model.eval()\n",
        "    with torch.no_grad():\n",
        "        outputs = model(X_test.cuda())\n",
        "    _, predicted = torch.max(outputs, 1)\n",
        "\n",
        "    acc = accuracy_score(y_test.cpu(), predicted.cpu())\n",
        "    f1 = f1_score(y_test.cpu(), predicted.cpu(), average='weighted')\n",
        "    prec = precision_score(y_test.cpu(), predicted.cpu(), average='weighted')\n",
        "    rec = recall_score(y_test.cpu(), predicted.cpu(), average='weighted')\n",
        "\n",
        "    return acc, f1, prec, rec\n",
        "\n"
      ],
      "metadata": {
        "id": "EiXK7IF4_4nt"
      },
      "execution_count": null,
      "outputs": []
    },
    {
      "cell_type": "code",
      "source": [
        "# Create a dictionary of optimizers\n",
        "optimizers_dict = {\n",
        "    'Adam': Adam,\n",
        "    'SGD': SGD,\n",
        "    'Adagrad': Adagrad,\n",
        "    'RMSprop': RMSprop,\n",
        "    'AdamW': AdamW\n",
        "}\n",
        "\n",
        "# Lists to store metrics for each model configuration\n",
        "accuracies = []\n",
        "f1_scores = []\n",
        "precisions = []\n",
        "recalls = []\n",
        "\n",
        "\n",
        "for opt in optimizers_dict.values():\n",
        "    acc, f1, prec, rec = train_model(opt)\n",
        "    accuracies.append(acc)\n",
        "    f1_scores.append(f1)\n",
        "    precisions.append(prec)\n",
        "    recalls.append(rec)\n"
      ],
      "metadata": {
        "colab": {
          "base_uri": "https://localhost:8080/"
        },
        "id": "9LZiQyFB_4qO",
        "outputId": "1d3f3db5-5ef0-41a3-ac13-c06861fa31c9"
      },
      "execution_count": null,
      "outputs": [
        {
          "output_type": "stream",
          "name": "stdout",
          "text": [
            "Optimizer: Adam, Epoch [1/10], Loss: 1.6241\n",
            "Optimizer: Adam, Epoch [2/10], Loss: 0.7198\n",
            "Optimizer: Adam, Epoch [3/10], Loss: 0.5012\n",
            "Optimizer: Adam, Epoch [4/10], Loss: 0.3930\n",
            "Optimizer: Adam, Epoch [5/10], Loss: 0.3460\n",
            "Optimizer: Adam, Epoch [6/10], Loss: 0.3383\n",
            "Optimizer: Adam, Epoch [7/10], Loss: 0.2968\n",
            "Optimizer: Adam, Epoch [8/10], Loss: 0.2853\n",
            "Optimizer: Adam, Epoch [9/10], Loss: 0.2615\n",
            "Optimizer: Adam, Epoch [10/10], Loss: 0.2611\n",
            "Optimizer: SGD, Epoch [1/10], Loss: 2.7751\n",
            "Optimizer: SGD, Epoch [2/10], Loss: 2.6977\n",
            "Optimizer: SGD, Epoch [3/10], Loss: 2.6393\n",
            "Optimizer: SGD, Epoch [4/10], Loss: 2.5779\n",
            "Optimizer: SGD, Epoch [5/10], Loss: 2.5060\n",
            "Optimizer: SGD, Epoch [6/10], Loss: 2.4276\n",
            "Optimizer: SGD, Epoch [7/10], Loss: 2.3505\n",
            "Optimizer: SGD, Epoch [8/10], Loss: 2.2749\n",
            "Optimizer: SGD, Epoch [9/10], Loss: 2.2054\n",
            "Optimizer: SGD, Epoch [10/10], Loss: 2.1397\n",
            "Optimizer: Adagrad, Epoch [1/10], Loss: 1.9957\n",
            "Optimizer: Adagrad, Epoch [2/10], Loss: 1.3724\n",
            "Optimizer: Adagrad, Epoch [3/10], Loss: 1.1641\n",
            "Optimizer: Adagrad, Epoch [4/10], Loss: 1.0490\n",
            "Optimizer: Adagrad, Epoch [5/10], Loss: 0.9636\n",
            "Optimizer: Adagrad, Epoch [6/10], Loss: 0.8996\n",
            "Optimizer: Adagrad, Epoch [7/10], Loss: 0.8451\n",
            "Optimizer: Adagrad, Epoch [8/10], Loss: 0.8031\n",
            "Optimizer: Adagrad, Epoch [9/10], Loss: 0.7664\n",
            "Optimizer: Adagrad, Epoch [10/10], Loss: 0.7329\n",
            "Optimizer: RMSprop, Epoch [1/10], Loss: 1.6211\n",
            "Optimizer: RMSprop, Epoch [2/10], Loss: 0.7700\n",
            "Optimizer: RMSprop, Epoch [3/10], Loss: 0.5779\n",
            "Optimizer: RMSprop, Epoch [4/10], Loss: 0.4847\n",
            "Optimizer: RMSprop, Epoch [5/10], Loss: 0.4106\n",
            "Optimizer: RMSprop, Epoch [6/10], Loss: 0.3757\n",
            "Optimizer: RMSprop, Epoch [7/10], Loss: 0.3582\n",
            "Optimizer: RMSprop, Epoch [8/10], Loss: 0.4010\n",
            "Optimizer: RMSprop, Epoch [9/10], Loss: 0.3193\n",
            "Optimizer: RMSprop, Epoch [10/10], Loss: 0.3005\n",
            "Optimizer: AdamW, Epoch [1/10], Loss: 1.7303\n",
            "Optimizer: AdamW, Epoch [2/10], Loss: 0.7448\n",
            "Optimizer: AdamW, Epoch [3/10], Loss: 0.4974\n",
            "Optimizer: AdamW, Epoch [4/10], Loss: 0.3955\n",
            "Optimizer: AdamW, Epoch [5/10], Loss: 0.3508\n",
            "Optimizer: AdamW, Epoch [6/10], Loss: 0.3300\n",
            "Optimizer: AdamW, Epoch [7/10], Loss: 0.3129\n",
            "Optimizer: AdamW, Epoch [8/10], Loss: 0.2901\n",
            "Optimizer: AdamW, Epoch [9/10], Loss: 0.2740\n",
            "Optimizer: AdamW, Epoch [10/10], Loss: 0.2644\n"
          ]
        }
      ]
    },
    {
      "cell_type": "code",
      "source": [
        "# Plotting the metrics\n",
        "import matplotlib.pyplot as plt\n",
        "import numpy as np\n",
        "\n",
        "# Create an index for each tick position\n",
        "x_indexes = np.arange(len(optimizers_dict.keys()))\n",
        "width = 0.2  # the width of the bars\n",
        "\n",
        "fig, ax = plt.subplots(figsize=(12, 6))\n",
        "\n",
        "# Generate bar graphs\n",
        "rects1 = ax.bar(x_indexes - 2 * width, accuracies, width, label='Accuracy')\n",
        "rects2 = ax.bar(x_indexes - width, f1_scores, width, label='F1 Score')\n",
        "rects3 = ax.bar(x_indexes, precisions, width, label='Precision')\n",
        "rects4 = ax.bar(x_indexes + width, recalls, width, label='Recall')\n",
        "\n",
        "# Add some text for labels, title and custom x-axis tick labels, etc.\n",
        "ax.set_xlabel('Optimizers')\n",
        "ax.set_ylabel('Scores')\n",
        "ax.set_title('Scores by Optimizers')\n",
        "ax.set_xticks(x_indexes)\n",
        "ax.set_xticklabels(optimizers_dict.keys())\n",
        "ax.legend()\n",
        "\n",
        "# Attach a text label above each bar in *rects*, displaying its height\n",
        "for rects in [rects1, rects2, rects3, rects4]:\n",
        "    for rect in rects:\n",
        "        height = rect.get_height()\n",
        "        ax.annotate('{:.2f}'.format(height),\n",
        "                    xy=(rect.get_x() + rect.get_width() / 2, height),\n",
        "                    xytext=(0, 3),  # 3 points vertical offset\n",
        "                    textcoords=\"offset points\",\n",
        "                    ha='center', va='bottom')\n",
        "\n",
        "fig.tight_layout()\n",
        "\n",
        "plt.show()\n"
      ],
      "metadata": {
        "colab": {
          "base_uri": "https://localhost:8080/",
          "height": 607
        },
        "id": "nTp3ibUi_4wQ",
        "outputId": "b277d9ea-2ae3-4e24-bc5e-4be870604a6e"
      },
      "execution_count": null,
      "outputs": [
        {
          "output_type": "display_data",
          "data": {
            "text/plain": [
              "<Figure size 1200x600 with 1 Axes>"
            ],
            "image/png": "[encoded data removed]"
          },
          "metadata": {}
        }
      ]
    },
    {
      "cell_type": "code",
      "source": [
        "print(\"optimizers:\", optimizers_dict )\n",
        "print(\"accuracies:\", accuracies)\n",
        "print(\"f1_scores:\", f1_scores)\n",
        "print(\"precisions:\", precisions)\n",
        "print(\"recalls:\", recalls)"
      ],
      "metadata": {
        "colab": {
          "base_uri": "https://localhost:8080/"
        },
        "id": "H9-Ikd4F_41Q",
        "outputId": "5e008e92-12a0-4f96-a482-88177eaba226"
      },
      "execution_count": null,
      "outputs": [
        {
          "output_type": "stream",
          "name": "stdout",
          "text": [
            "optimizers: {'Adam': <class 'torch.optim.adam.Adam'>, 'SGD': <class 'torch.optim.sgd.SGD'>, 'Adagrad': <class 'torch.optim.adagrad.Adagrad'>, 'RMSprop': <class 'torch.optim.rmsprop.RMSprop'>, 'AdamW': <class 'torch.optim.adamw.AdamW'>}\n",
            "accuracies: [0.892727615279544, 0.4411709293014931, 0.7900946728839904, 0.8771607554990344, 0.8861099335876784]\n",
            "f1_scores: [0.8761451351128046, 0.39462856708414684, 0.7658564502518753, 0.8600628161028294, 0.8695239078288123]\n",
            "precisions: [0.9238137159664936, 0.4183957487540065, 0.764809420636193, 0.9087179576246182, 0.9187687330646684]\n",
            "recalls: [0.892727615279544, 0.4411709293014931, 0.7900946728839904, 0.8771607554990344, 0.8861099335876784]\n"
          ]
        }
      ]
    },
    {
      "cell_type": "code",
      "source": [],
      "metadata": {
        "id": "ami9o-yT_44D"
      },
      "execution_count": null,
      "outputs": []
    }
  ]
}