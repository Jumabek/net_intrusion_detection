{
  "cells": [
    {
      "cell_type": "code",
      "execution_count": null,
      "metadata": {
        "id": "3s95xpPQL4SI"
      },
      "outputs": [],
      "source": [
        "author=\"Jumabek Alikhanov\"\n",
        "date = 'Nov 19,2019'"
      ]
    },
    {
      "attachments": {},
      "cell_type": "markdown",
      "metadata": {},
      "source": [
        "### Download data directly from the link below and unzip it in the same directory"
      ]
    },
    {
      "cell_type": "code",
      "execution_count": 4,
      "metadata": {
        "colab": {
          "base_uri": "https://localhost:8080/"
        },
        "id": "6uuuUnQ5MU54",
        "outputId": "e44858b6-7e5c-46bb-ce45-8dd1f1afbd6f"
      },
      "outputs": [
        {
          "name": "stdout",
          "output_type": "stream",
          "text": [
            "/usr/local/lib/python3.10/dist-packages/gdown/cli.py:121: FutureWarning: Option `--id` was deprecated in version 4.3.1 and will be removed in 5.0. You don't need to pass it anymore to use a file ID.\n",
            "  warnings.warn(\n",
            "Downloading...\n",
            "From: https://drive.google.com/uc?id=1-t3RdDpmqMs4ABt9oobSapeNYTZJ9tpu\n",
            "To: /content/net_intrusion_detection/MachineLearningCSV.zip\n",
            "100% 235M/235M [00:02<00:00, 102MB/s]\n"
          ]
        }
      ],
      "source": [
        "!gdown --id 1-t3RdDpmqMs4ABt9oobSapeNYTZJ9tpu\n",
        "!unzip MachineLearningCSV.zip"
      ]
    },
    {
      "cell_type": "code",
      "execution_count": 6,
      "metadata": {
        "id": "nJ59iyvAL4SM"
      },
      "outputs": [],
      "source": [
        "#imports\n",
        "import os\n",
        "from os.path import join\n",
        "import glob\n",
        "import pandas as pd\n",
        "import numpy as np\n",
        "from sklearn.ensemble import RandomForestClassifier\n",
        "%load_ext autoreload"
      ]
    },
    {
      "cell_type": "code",
      "execution_count": 7,
      "metadata": {
        "id": "QZ6CG9NVL4SN"
      },
      "outputs": [],
      "source": [
        "# load data\n",
        "dataroot = 'MachineLearningCVE/'"
      ]
    },
    {
      "cell_type": "code",
      "execution_count": 8,
      "metadata": {
        "colab": {
          "base_uri": "https://localhost:8080/"
        },
        "id": "dswnyH1oL4SP",
        "outputId": "271f9ebd-6cf5-4df8-cc9f-72332c211f36"
      },
      "outputs": [
        {
          "name": "stdout",
          "output_type": "stream",
          "text": [
            "MachineLearningCVE/*.csv\n",
            "['MachineLearningCVE/Friday-WorkingHours-Afternoon-DDos.pcap_ISCX.csv', 'MachineLearningCVE/Friday-WorkingHours-Morning.pcap_ISCX.csv', 'MachineLearningCVE/Friday-WorkingHours-Afternoon-PortScan.pcap_ISCX.csv', 'MachineLearningCVE/Monday-WorkingHours.pcap_ISCX.csv', 'MachineLearningCVE/Wednesday-workingHours.pcap_ISCX.csv', 'MachineLearningCVE/Thursday-WorkingHours-Morning-WebAttacks.pcap_ISCX.csv', 'MachineLearningCVE/Thursday-WorkingHours-Afternoon-Infilteration.pcap_ISCX.csv', 'MachineLearningCVE/Tuesday-WorkingHours.pcap_ISCX.csv']\n",
            "There are 2830743 flow records with 79 feature dimension\n",
            "Data loaded.\n",
            "Data preprocessing started...\n",
            "Stripped column names\n",
            "Dropped bad columns\n",
            "There are 0 nan entries\n",
            "Converted to numeric\n"
          ]
        }
      ],
      "source": [
        "from preprocessing import load_data\n",
        "X,y = load_data(dataroot) # reads csv file and returns np array of X,y -> of shape (N,D) and (N,1)"
      ]
    },
    {
      "cell_type": "code",
      "execution_count": 13,
      "metadata": {
        "id": "3-UVWkRxL4SR"
      },
      "outputs": [],
      "source": [
        "from preprocessing import balance_data, normalize\n",
        "#X = normalize(X)\n",
        "SEED=2"
      ]
    },
    {
      "cell_type": "code",
      "execution_count": 15,
      "metadata": {
        "colab": {
          "base_uri": "https://localhost:8080/"
        },
        "id": "y18elb2KL4ST",
        "outputId": "93711524-b415-43e6-eb6c-6d4854aba93e"
      },
      "outputs": [
        {
          "name": "stdout",
          "output_type": "stream",
          "text": [
            "---------------------------------------------\n",
            "Fold #0\n",
            "val acc: 99.85472015967535\n",
            "balanced val acc:  84.57402498830538\n",
            "balanced test acc:  80.69595867676547\n",
            "---------------------------------------------\n",
            "Fold #1\n",
            "val acc: 99.82204323510385\n",
            "balanced val acc:  82.32988792051918\n",
            "balanced test acc:  82.9067562729627\n",
            "---------------------------------------------\n",
            "Fold #2\n",
            "val acc: 99.84081038772938\n",
            "balanced val acc:  83.02130895989173\n",
            "balanced test acc:  81.4632409759166\n",
            "---------------------------------------------\n",
            "Fold #3\n",
            "val acc: 99.91058003749015\n",
            "balanced val acc:  78.5663213262709\n",
            "balanced test acc:  81.73097334481285\n",
            "---------------------------------------------\n",
            "Fold #4\n",
            "val acc: 99.85449936964447\n",
            "balanced val acc:  86.23074730512053\n",
            "balanced test acc:  73.63843326950139\n"
          ]
        }
      ],
      "source": [
        "# Random Foresty with 10 DecisionTrees\n",
        "from sklearn.model_selection import StratifiedKFold\n",
        "from sklearn.model_selection import StratifiedShuffleSplit\n",
        "from sklearn import metrics\n",
        "\n",
        "\n",
        "K=5\n",
        "results = {}\n",
        "skf = StratifiedKFold(n_splits=K)\n",
        "\n",
        "for fold_index, (dev_index,test_index) in enumerate(skf.split(X,y)): \n",
        "    print('---------------------------------------------')\n",
        "    print('Fold #{}'.format(fold_index))    \n",
        "    X_dev = X[dev_index]\n",
        "    y_dev = y[dev_index]\n",
        "    X_test = X[test_index]\n",
        "    y_test = y[test_index]\n",
        "    \n",
        "    sss = StratifiedShuffleSplit(n_splits=1, test_size=0.2)\n",
        "    for train_index, val_index in sss.split(X_dev, y_dev): # runs only once\n",
        "        X_train = X_dev[train_index]\n",
        "        y_train = y_dev[train_index]\n",
        "        X_val = X_dev[val_index]\n",
        "        y_val = y_dev[val_index]\n",
        "        break\n",
        "    \n",
        "    #X_train,y_train = balance_data(X_train,y_train,seed=SEED)\n",
        "    clf = RandomForestClassifier(n_estimators=10, random_state=SEED)\n",
        "    clf.fit(X_train,y_train)\n",
        "    \n",
        "    pred = clf.predict(X_val)\n",
        "    imbalanced_val_acc = metrics.accuracy_score(y_val,pred)*100        \n",
        "    val_acc = metrics.balanced_accuracy_score(y_val,pred)*100\n",
        "\n",
        "    pred = clf.predict(X_test)\n",
        "    test_acc = metrics.balanced_accuracy_score(y_test,pred)*100\n",
        "    print('val acc:',imbalanced_val_acc)\n",
        "    print('balanced val acc: ',val_acc)\n",
        "    print('balanced test acc: ',test_acc)\n",
        "    \n",
        "    results[fold_index]= (imbalanced_val_acc, val_acc, test_acc)\n",
        "    \n"
      ]
    },
    {
      "cell_type": "code",
      "execution_count": 16,
      "metadata": {
        "colab": {
          "base_uri": "https://localhost:8080/"
        },
        "id": "bU6kBVaZL4SW",
        "outputId": "f7aab89d-b698-4c8a-9358-482c1181d712"
      },
      "outputs": [
        {
          "name": "stdout",
          "output_type": "stream",
          "text": [
            "5-fold evaluation:\n",
            "imbalanced val acc: 99.85653063792864\n",
            "val acc:  82.94445810002154\n",
            "test acc:  80.0870725079918\n",
            "99.86 82.94 80.09\n"
          ]
        }
      ],
      "source": [
        "sum_imbalanced_val_acc = 0\n",
        "sum_val_acc = 0\n",
        "sum_test_acc = 0\n",
        "for fold_index,res in results.items():\n",
        "    (acc,balanced_acc,test_acc) = res\n",
        "    sum_imbalanced_val_acc+=acc\n",
        "    sum_val_acc +=balanced_acc\n",
        "    sum_test_acc+= test_acc\n",
        "print(\"{}-fold evaluation:\".format(K))\n",
        "print('imbalanced val acc:',sum_imbalanced_val_acc/K)\n",
        "print('val acc: ',sum_val_acc/K)\n",
        "print('test acc: ',sum_test_acc/K)\n",
        "print('{0:.2f} {1:.2f} {2:.2f}'.format(sum_imbalanced_val_acc/K,sum_val_acc/K,sum_test_acc/K))"
      ]
    }
  ],
  "metadata": {
    "accelerator": "GPU",
    "colab": {
      "gpuType": "A100",
      "machine_shape": "hm",
      "provenance": []
    },
    "gpuClass": "standard",
    "kernelspec": {
      "display_name": "Python 3",
      "language": "python",
      "name": "python3"
    },
    "language_info": {
      "codemirror_mode": {
        "name": "ipython",
        "version": 3
      },
      "file_extension": ".py",
      "mimetype": "text/x-python",
      "name": "python",
      "nbconvert_exporter": "python",
      "pygments_lexer": "ipython3",
      "version": "3.6.8"
    }
  },
  "nbformat": 4,
  "nbformat_minor": 0
}
