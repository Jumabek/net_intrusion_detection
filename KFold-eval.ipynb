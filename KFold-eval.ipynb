{
  "cells": [
    {
      "cell_type": "code",
      "execution_count": null,
      "metadata": {
        "id": "AmsdnSL5CZ6J"
      },
      "outputs": [],
      "source": [
        "author=\"Jumabek Alikhanov\"\n",
        "date = 'Nov 17,2019'"
      ]
    },
    {
      "attachments": {},
      "cell_type": "markdown",
      "metadata": {},
      "source": [
        "### Download data directly from the link below and unzip it in the same directory"
      ]
    },
    {
      "cell_type": "code",
      "execution_count": 5,
      "metadata": {
        "colab": {
          "base_uri": "https://localhost:8080/"
        },
        "id": "eTUpGd0jClEE",
        "outputId": "c66336ed-0206-4936-b267-562f8cd0e8e4"
      },
      "outputs": [
        {
          "name": "stdout",
          "output_type": "stream",
          "text": [
            "/usr/local/lib/python3.10/dist-packages/gdown/cli.py:121: FutureWarning: Option `--id` was deprecated in version 4.3.1 and will be removed in 5.0. You don't need to pass it anymore to use a file ID.\n",
            "  warnings.warn(\n",
            "Downloading...\n",
            "From: https://drive.google.com/uc?id=1-t3RdDpmqMs4ABt9oobSapeNYTZJ9tpu\n",
            "To: /content/net_intrusion_detection/MachineLearningCSV.zip\n",
            "100% 235M/235M [00:00<00:00, 241MB/s]\n"
          ]
        }
      ],
      "source": [
        "!gdown --id 1-t3RdDpmqMs4ABt9oobSapeNYTZJ9tpu\n",
        "!unzip MachineLearningCSV.zip"
      ]
    },
    {
      "cell_type": "code",
      "execution_count": 7,
      "metadata": {
        "id": "NswqsYEZCZ6Q"
      },
      "outputs": [],
      "source": [
        "#imports\n",
        "import os\n",
        "from os.path import join\n",
        "import glob\n",
        "import pandas as pd\n",
        "import numpy as np\n",
        "import time\n",
        "from preprocessing import load_data\n",
        "%load_ext autoreload"
      ]
    },
    {
      "cell_type": "code",
      "execution_count": 8,
      "metadata": {
        "id": "ASiD2931CZ6R"
      },
      "outputs": [],
      "source": [
        "# load data\n",
        "dataroot = 'MachineLearningCVE/'"
      ]
    },
    {
      "cell_type": "code",
      "execution_count": 9,
      "metadata": {
        "colab": {
          "base_uri": "https://localhost:8080/"
        },
        "id": "Oh1wfOcSCZ6S",
        "outputId": "ad1b89e5-64f8-47a5-a110-47c8fc85eeaa"
      },
      "outputs": [
        {
          "name": "stdout",
          "output_type": "stream",
          "text": [
            "MachineLearningCVE/*.csv\n",
            "['MachineLearningCVE/Friday-WorkingHours-Afternoon-DDos.pcap_ISCX.csv', 'MachineLearningCVE/Friday-WorkingHours-Morning.pcap_ISCX.csv', 'MachineLearningCVE/Friday-WorkingHours-Afternoon-PortScan.pcap_ISCX.csv', 'MachineLearningCVE/Monday-WorkingHours.pcap_ISCX.csv', 'MachineLearningCVE/Wednesday-workingHours.pcap_ISCX.csv', 'MachineLearningCVE/Thursday-WorkingHours-Morning-WebAttacks.pcap_ISCX.csv', 'MachineLearningCVE/Thursday-WorkingHours-Afternoon-Infilteration.pcap_ISCX.csv', 'MachineLearningCVE/Tuesday-WorkingHours.pcap_ISCX.csv']\n",
            "There are 2830743 flow records with 79 feature dimension\n",
            "Data loaded.\n",
            "Data preprocessing started...\n",
            "Stripped column names\n",
            "Dropped bad columns\n",
            "There are 0 nan entries\n",
            "Converted to numeric\n"
          ]
        }
      ],
      "source": [
        "X,y = load_data(dataroot) # reads csv file and returns np array of X,y -> of shape (N,D) and (N,1)"
      ]
    },
    {
      "attachments": {},
      "cell_type": "markdown",
      "metadata": {
        "id": "HFVBVuBkCZ6U"
      },
      "source": [
        "## Data Imbalance\n",
        "1. It is curucial to adress this issue in order to get decent performance\n",
        "2. It also affects evaluation, we should calculate  `balanced accuracy`"
      ]
    },
    {
      "cell_type": "code",
      "execution_count": 10,
      "metadata": {
        "id": "9SlFVTA6CZ6b"
      },
      "outputs": [],
      "source": [
        "from preprocessing import balance_data, normalize\n",
        "X = normalize(X)"
      ]
    },
    {
      "cell_type": "code",
      "execution_count": 11,
      "metadata": {
        "id": "eTa2Ka1hCZ6c"
      },
      "outputs": [],
      "source": [
        "%autoreload 2\n",
        "from models import Classifier\n",
        "\n",
        "def ensure_dir(dir_path):\n",
        "    if not os.path.exists(dir_path):\n",
        "        os.makedirs(dir_path)\n",
        "\n",
        "def getClassifier(args,runs_dir=None):\n",
        "    \n",
        "    (method,optim,lr,reg,batch_size,input_dim,num_class,num_iters) = args\n",
        "    if runs_dir is not None:\n",
        "        ensure_dir(runs_dir)\n",
        "    \n",
        "    clf = Classifier(method,input_dim,num_class,lr=lr,reg=reg,num_epochs=num_iters,\n",
        "                        batch_size=batch_size,runs_dir=runs_dir)\n",
        "    return clf"
      ]
    },
    {
      "cell_type": "code",
      "execution_count": 12,
      "metadata": {
        "id": "YM4zqSzSCZ6d"
      },
      "outputs": [],
      "source": [
        "from sklearn.model_selection import StratifiedKFold\n",
        "from sklearn.model_selection import StratifiedShuffleSplit\n",
        "from sklearn import metrics\n",
        "def Kfold_evaluation(X,y,method='nn3',K=5,lr=1e-3,reg=1e-5,num_epochs=20):\n",
        "    results = {}\n",
        "\n",
        "    #hyper-params\n",
        "    batch_size = 5120 # increasing batch size with more gpu added\n",
        "    optim = 'Adam'\n",
        "\n",
        "    N,input_dim = X.shape\n",
        "    num_class = len(np.unique(y))\n",
        " \n",
        "    skf = StratifiedKFold(n_splits=K,)\n",
        "    for fold_index, (train_index,test_index) in enumerate(skf.split(X,y)): \n",
        "        print('---------------------------------------------')\n",
        "        print('Fold #{}'.format(fold_index))    \n",
        "        X_train = X[train_index]\n",
        "        y_train = y[train_index]\n",
        "        X_test = X[test_index]\n",
        "        y_test = y[test_index]\n",
        "        \n",
        "        X_train,y_train = balance_data(X_train,y_train,seed = SEED)\n",
        "        \n",
        "        classifier_args = (method,optim,lr,reg,batch_size,input_dim,num_class,num_epochs)\n",
        "        config =  '{}/Kfold-{}th_run/optim_{}_lr_{}_reg_{}_bs_{}'.format(method,fold_index,optim,lr,reg,batch_size)\n",
        "        runs_dir = join(dataroot,'runs',config)\n",
        "    \n",
        "        clf = getClassifier(classifier_args,runs_dir)\n",
        "        \n",
        "        clf.fit(X_train,y_train)\n",
        "    \n",
        "        pred = clf.predict(X_test,eval_mode=True)\n",
        "        test_acc = metrics.balanced_accuracy_score(y_test,pred)*100\n",
        "        print('balanced test acc: ',test_acc)\n",
        "        results[fold_index]= (test_acc)\n",
        "    return results"
      ]
    },
    {
      "cell_type": "code",
      "execution_count": 13,
      "metadata": {
        "colab": {
          "base_uri": "https://localhost:8080/"
        },
        "id": "RXAfarokCZ6f",
        "outputId": "58ad3829-b136-43cc-b5d9-6fc43b6d36a2"
      },
      "outputs": [
        {
          "name": "stdout",
          "output_type": "stream",
          "text": [
            "---------------------------------------------\n",
            "Fold #0\n"
          ]
        },
        {
          "name": "stderr",
          "output_type": "stream",
          "text": [
            "INFO:models:Classifier initialized with method nn5, input_dim 76, num_classes 15, num_epochs 20, batch_size 5120, lr 0.001000, reg 0.000010, runs_dir MachineLearningCVE/runs/nn5/Kfold-0th_run/optim_Adam_lr_0.001_reg_1e-05_bs_5120\n",
            "INFO:models:Starting training process...\n",
            "DEBUG:models:Epoch [1/20], Step [50/398], Loss: 0.6280\n",
            "DEBUG:models:Epoch [1/20], Step [100/398], Loss: 0.2898\n",
            "DEBUG:models:Epoch [1/20], Step [150/398], Loss: 0.2421\n",
            "DEBUG:models:Epoch [1/20], Step [200/398], Loss: 0.2240\n",
            "DEBUG:models:Epoch [1/20], Step [250/398], Loss: 0.2037\n",
            "DEBUG:models:Epoch [1/20], Step [300/398], Loss: 0.1845\n",
            "DEBUG:models:Epoch [1/20], Step [350/398], Loss: 0.2058\n",
            "DEBUG:models:Epoch [2/20], Step [1/398], Loss: 0.2019\n",
            "DEBUG:models:Epoch [2/20], Step [51/398], Loss: 0.1918\n",
            "DEBUG:models:Epoch [2/20], Step [101/398], Loss: 0.1816\n",
            "DEBUG:models:Epoch [2/20], Step [151/398], Loss: 0.1787\n",
            "DEBUG:models:Epoch [2/20], Step [201/398], Loss: 0.1842\n",
            "DEBUG:models:Epoch [2/20], Step [251/398], Loss: 0.1796\n",
            "DEBUG:models:Epoch [2/20], Step [301/398], Loss: 0.1824\n",
            "DEBUG:models:Epoch [2/20], Step [351/398], Loss: 0.1741\n",
            "DEBUG:models:Epoch [3/20], Step [2/398], Loss: 0.1811\n",
            "DEBUG:models:Epoch [3/20], Step [52/398], Loss: 0.1826\n",
            "DEBUG:models:Epoch [3/20], Step [102/398], Loss: 0.1767\n",
            "DEBUG:models:Epoch [3/20], Step [152/398], Loss: 0.1781\n",
            "DEBUG:models:Epoch [3/20], Step [202/398], Loss: 0.1670\n",
            "DEBUG:models:Epoch [3/20], Step [252/398], Loss: 0.1641\n",
            "DEBUG:models:Epoch [3/20], Step [302/398], Loss: 0.1611\n",
            "DEBUG:models:Epoch [3/20], Step [352/398], Loss: 0.1614\n",
            "DEBUG:models:Epoch [4/20], Step [3/398], Loss: 0.1783\n",
            "DEBUG:models:Epoch [4/20], Step [53/398], Loss: 0.1624\n",
            "DEBUG:models:Epoch [4/20], Step [103/398], Loss: 0.1555\n",
            "DEBUG:models:Epoch [4/20], Step [153/398], Loss: 0.1569\n",
            "DEBUG:models:Epoch [4/20], Step [203/398], Loss: 0.1536\n",
            "DEBUG:models:Epoch [4/20], Step [253/398], Loss: 0.1665\n",
            "DEBUG:models:Epoch [4/20], Step [303/398], Loss: 0.1605\n",
            "DEBUG:models:Epoch [4/20], Step [353/398], Loss: 0.1630\n",
            "DEBUG:models:Epoch [5/20], Step [4/398], Loss: 0.1682\n",
            "DEBUG:models:Epoch [5/20], Step [54/398], Loss: 0.1577\n",
            "DEBUG:models:Epoch [5/20], Step [104/398], Loss: 0.1595\n",
            "DEBUG:models:Epoch [5/20], Step [154/398], Loss: 0.1631\n",
            "WARNING:models:No improvement in accuracy for 10 iterations.\n"
          ]
        },
        {
          "name": "stdout",
          "output_type": "stream",
          "text": [
            "Loaded MachineLearningCVE/runs/nn5/Kfold-0th_run/optim_Adam_lr_0.001_reg_1e-05_bs_5120 model trained with batch_size = 5120, seen 3 epochs and 102 mini batches\n",
            "balanced test acc:  84.86105583548303\n",
            "---------------------------------------------\n",
            "Fold #1\n"
          ]
        },
        {
          "name": "stderr",
          "output_type": "stream",
          "text": [
            "INFO:models:Classifier initialized with method nn5, input_dim 76, num_classes 15, num_epochs 20, batch_size 5120, lr 0.001000, reg 0.000010, runs_dir MachineLearningCVE/runs/nn5/Kfold-1th_run/optim_Adam_lr_0.001_reg_1e-05_bs_5120\n",
            "INFO:models:Starting training process...\n",
            "DEBUG:models:Epoch [1/20], Step [50/398], Loss: 0.6766\n",
            "DEBUG:models:Epoch [1/20], Step [100/398], Loss: 0.3034\n",
            "DEBUG:models:Epoch [1/20], Step [150/398], Loss: 0.2639\n",
            "DEBUG:models:Epoch [1/20], Step [200/398], Loss: 0.2409\n",
            "DEBUG:models:Epoch [1/20], Step [250/398], Loss: 0.2205\n",
            "DEBUG:models:Epoch [1/20], Step [300/398], Loss: 0.2228\n",
            "DEBUG:models:Epoch [1/20], Step [350/398], Loss: 0.1952\n",
            "DEBUG:models:Epoch [2/20], Step [1/398], Loss: 0.2264\n",
            "DEBUG:models:Epoch [2/20], Step [51/398], Loss: 0.1885\n",
            "DEBUG:models:Epoch [2/20], Step [101/398], Loss: 0.2125\n",
            "DEBUG:models:Epoch [2/20], Step [151/398], Loss: 0.1800\n",
            "DEBUG:models:Epoch [2/20], Step [201/398], Loss: 0.1883\n",
            "DEBUG:models:Epoch [2/20], Step [251/398], Loss: 0.1884\n",
            "DEBUG:models:Epoch [2/20], Step [301/398], Loss: 0.2483\n",
            "DEBUG:models:Epoch [2/20], Step [351/398], Loss: 0.1829\n",
            "DEBUG:models:Epoch [3/20], Step [2/398], Loss: 0.2211\n",
            "DEBUG:models:Epoch [3/20], Step [52/398], Loss: 0.1741\n",
            "DEBUG:models:Epoch [3/20], Step [102/398], Loss: 0.1922\n",
            "DEBUG:models:Epoch [3/20], Step [152/398], Loss: 0.1683\n",
            "DEBUG:models:Epoch [3/20], Step [202/398], Loss: 0.1703\n",
            "DEBUG:models:Epoch [3/20], Step [252/398], Loss: 0.1776\n",
            "DEBUG:models:Epoch [3/20], Step [302/398], Loss: 0.1710\n",
            "DEBUG:models:Epoch [3/20], Step [352/398], Loss: 0.1769\n",
            "DEBUG:models:Epoch [4/20], Step [3/398], Loss: 0.1724\n",
            "DEBUG:models:Epoch [4/20], Step [53/398], Loss: 0.1706\n",
            "DEBUG:models:Epoch [4/20], Step [103/398], Loss: 0.1651\n",
            "DEBUG:models:Epoch [4/20], Step [153/398], Loss: 0.1594\n",
            "DEBUG:models:Epoch [4/20], Step [203/398], Loss: 0.1657\n",
            "WARNING:models:No improvement in accuracy for 10 iterations.\n"
          ]
        },
        {
          "name": "stdout",
          "output_type": "stream",
          "text": [
            "Loaded MachineLearningCVE/runs/nn5/Kfold-1th_run/optim_Adam_lr_0.001_reg_1e-05_bs_5120 model trained with batch_size = 5120, seen 2 epochs and 151 mini batches\n",
            "balanced test acc:  87.38730502709997\n",
            "---------------------------------------------\n",
            "Fold #2\n"
          ]
        },
        {
          "name": "stderr",
          "output_type": "stream",
          "text": [
            "INFO:models:Classifier initialized with method nn5, input_dim 76, num_classes 15, num_epochs 20, batch_size 5120, lr 0.001000, reg 0.000010, runs_dir MachineLearningCVE/runs/nn5/Kfold-2th_run/optim_Adam_lr_0.001_reg_1e-05_bs_5120\n",
            "INFO:models:Starting training process...\n",
            "DEBUG:models:Epoch [1/20], Step [50/398], Loss: 0.6385\n",
            "DEBUG:models:Epoch [1/20], Step [100/398], Loss: 0.2960\n",
            "DEBUG:models:Epoch [1/20], Step [150/398], Loss: 0.2503\n",
            "DEBUG:models:Epoch [1/20], Step [200/398], Loss: 0.2386\n",
            "DEBUG:models:Epoch [1/20], Step [250/398], Loss: 0.2275\n",
            "DEBUG:models:Epoch [1/20], Step [300/398], Loss: 0.2239\n",
            "DEBUG:models:Epoch [1/20], Step [350/398], Loss: 0.2425\n",
            "DEBUG:models:Epoch [2/20], Step [1/398], Loss: 0.2483\n",
            "DEBUG:models:Epoch [2/20], Step [51/398], Loss: 0.2189\n",
            "DEBUG:models:Epoch [2/20], Step [101/398], Loss: 0.2147\n",
            "DEBUG:models:Epoch [2/20], Step [151/398], Loss: 0.1963\n",
            "DEBUG:models:Epoch [2/20], Step [201/398], Loss: 0.1879\n",
            "DEBUG:models:Epoch [2/20], Step [251/398], Loss: 0.1932\n",
            "DEBUG:models:Epoch [2/20], Step [301/398], Loss: 0.1945\n",
            "DEBUG:models:Epoch [2/20], Step [351/398], Loss: 0.1872\n",
            "DEBUG:models:Epoch [3/20], Step [2/398], Loss: 0.1895\n",
            "DEBUG:models:Epoch [3/20], Step [52/398], Loss: 0.3052\n",
            "DEBUG:models:Epoch [3/20], Step [102/398], Loss: 0.1687\n",
            "DEBUG:models:Epoch [3/20], Step [152/398], Loss: 0.1781\n",
            "DEBUG:models:Epoch [3/20], Step [202/398], Loss: 0.1830\n",
            "DEBUG:models:Epoch [3/20], Step [252/398], Loss: 0.1789\n",
            "DEBUG:models:Epoch [3/20], Step [302/398], Loss: 0.1883\n",
            "DEBUG:models:Epoch [3/20], Step [352/398], Loss: 0.1768\n",
            "DEBUG:models:Epoch [4/20], Step [3/398], Loss: 0.1836\n",
            "DEBUG:models:Epoch [4/20], Step [53/398], Loss: 0.1700\n",
            "DEBUG:models:Epoch [4/20], Step [103/398], Loss: 0.1742\n",
            "DEBUG:models:Epoch [4/20], Step [153/398], Loss: 0.1727\n",
            "DEBUG:models:Epoch [4/20], Step [203/398], Loss: 0.1691\n",
            "DEBUG:models:Epoch [4/20], Step [253/398], Loss: 0.1659\n",
            "DEBUG:models:Epoch [4/20], Step [303/398], Loss: 0.1585\n",
            "DEBUG:models:Epoch [4/20], Step [353/398], Loss: 0.1608\n",
            "DEBUG:models:Epoch [5/20], Step [4/398], Loss: 0.1625\n",
            "DEBUG:models:Epoch [5/20], Step [54/398], Loss: 0.1592\n",
            "DEBUG:models:Epoch [5/20], Step [104/398], Loss: 0.2153\n",
            "DEBUG:models:Epoch [5/20], Step [154/398], Loss: 0.1615\n",
            "DEBUG:models:Epoch [5/20], Step [204/398], Loss: 0.1552\n",
            "DEBUG:models:Epoch [5/20], Step [254/398], Loss: 0.1547\n",
            "DEBUG:models:Epoch [5/20], Step [304/398], Loss: 0.1604\n",
            "DEBUG:models:Epoch [5/20], Step [354/398], Loss: 0.1694\n",
            "DEBUG:models:Epoch [6/20], Step [5/398], Loss: 0.1458\n",
            "DEBUG:models:Epoch [6/20], Step [55/398], Loss: 0.1694\n",
            "DEBUG:models:Epoch [6/20], Step [105/398], Loss: 0.1547\n",
            "DEBUG:models:Epoch [6/20], Step [155/398], Loss: 0.1646\n",
            "DEBUG:models:Epoch [6/20], Step [205/398], Loss: 0.1473\n",
            "DEBUG:models:Epoch [6/20], Step [255/398], Loss: 0.1615\n",
            "WARNING:models:No improvement in accuracy for 10 iterations.\n"
          ]
        },
        {
          "name": "stdout",
          "output_type": "stream",
          "text": [
            "Loaded MachineLearningCVE/runs/nn5/Kfold-2th_run/optim_Adam_lr_0.001_reg_1e-05_bs_5120 model trained with batch_size = 5120, seen 4 epochs and 203 mini batches\n",
            "balanced test acc:  90.31020740930572\n",
            "---------------------------------------------\n",
            "Fold #3\n"
          ]
        },
        {
          "name": "stderr",
          "output_type": "stream",
          "text": [
            "INFO:models:Classifier initialized with method nn5, input_dim 76, num_classes 15, num_epochs 20, batch_size 5120, lr 0.001000, reg 0.000010, runs_dir MachineLearningCVE/runs/nn5/Kfold-3th_run/optim_Adam_lr_0.001_reg_1e-05_bs_5120\n",
            "INFO:models:Starting training process...\n",
            "DEBUG:models:Epoch [1/20], Step [50/398], Loss: 0.6800\n",
            "DEBUG:models:Epoch [1/20], Step [100/398], Loss: 0.2963\n",
            "DEBUG:models:Epoch [1/20], Step [150/398], Loss: 0.2565\n",
            "DEBUG:models:Epoch [1/20], Step [200/398], Loss: 0.2671\n",
            "DEBUG:models:Epoch [1/20], Step [250/398], Loss: 0.2236\n",
            "DEBUG:models:Epoch [1/20], Step [300/398], Loss: 0.2730\n",
            "DEBUG:models:Epoch [1/20], Step [350/398], Loss: 0.2088\n",
            "DEBUG:models:Epoch [2/20], Step [1/398], Loss: 0.2289\n",
            "DEBUG:models:Epoch [2/20], Step [51/398], Loss: 0.2048\n",
            "DEBUG:models:Epoch [2/20], Step [101/398], Loss: 0.1802\n",
            "DEBUG:models:Epoch [2/20], Step [151/398], Loss: 0.1936\n",
            "DEBUG:models:Epoch [2/20], Step [201/398], Loss: 0.1825\n",
            "DEBUG:models:Epoch [2/20], Step [251/398], Loss: 0.1817\n",
            "DEBUG:models:Epoch [2/20], Step [301/398], Loss: 0.2064\n",
            "DEBUG:models:Epoch [2/20], Step [351/398], Loss: 0.1709\n",
            "DEBUG:models:Epoch [3/20], Step [2/398], Loss: 0.1969\n",
            "DEBUG:models:Epoch [3/20], Step [52/398], Loss: 0.1727\n",
            "DEBUG:models:Epoch [3/20], Step [102/398], Loss: 0.1676\n",
            "DEBUG:models:Epoch [3/20], Step [152/398], Loss: 0.1685\n",
            "DEBUG:models:Epoch [3/20], Step [202/398], Loss: 0.1624\n",
            "DEBUG:models:Epoch [3/20], Step [252/398], Loss: 0.1700\n",
            "DEBUG:models:Epoch [3/20], Step [302/398], Loss: 0.1684\n",
            "DEBUG:models:Epoch [3/20], Step [352/398], Loss: 0.1755\n",
            "DEBUG:models:Epoch [4/20], Step [3/398], Loss: 0.1659\n",
            "DEBUG:models:Epoch [4/20], Step [53/398], Loss: 0.1594\n",
            "DEBUG:models:Epoch [4/20], Step [103/398], Loss: 0.1611\n",
            "DEBUG:models:Epoch [4/20], Step [153/398], Loss: 0.1653\n",
            "DEBUG:models:Epoch [4/20], Step [203/398], Loss: 0.1715\n",
            "DEBUG:models:Epoch [4/20], Step [253/398], Loss: 0.1814\n",
            "DEBUG:models:Epoch [4/20], Step [303/398], Loss: 0.1750\n",
            "DEBUG:models:Epoch [4/20], Step [353/398], Loss: 0.1941\n",
            "DEBUG:models:Epoch [5/20], Step [4/398], Loss: 0.1587\n",
            "DEBUG:models:Epoch [5/20], Step [54/398], Loss: 0.1562\n",
            "DEBUG:models:Epoch [5/20], Step [104/398], Loss: 0.1489\n",
            "DEBUG:models:Epoch [5/20], Step [154/398], Loss: 0.1820\n",
            "WARNING:models:No improvement in accuracy for 10 iterations.\n"
          ]
        },
        {
          "name": "stdout",
          "output_type": "stream",
          "text": [
            "Loaded MachineLearningCVE/runs/nn5/Kfold-3th_run/optim_Adam_lr_0.001_reg_1e-05_bs_5120 model trained with batch_size = 5120, seen 3 epochs and 102 mini batches\n",
            "balanced test acc:  86.47327250186615\n",
            "---------------------------------------------\n",
            "Fold #4\n"
          ]
        },
        {
          "name": "stderr",
          "output_type": "stream",
          "text": [
            "INFO:models:Classifier initialized with method nn5, input_dim 76, num_classes 15, num_epochs 20, batch_size 5120, lr 0.001000, reg 0.000010, runs_dir MachineLearningCVE/runs/nn5/Kfold-4th_run/optim_Adam_lr_0.001_reg_1e-05_bs_5120\n",
            "INFO:models:Starting training process...\n",
            "DEBUG:models:Epoch [1/20], Step [50/398], Loss: 0.6346\n",
            "DEBUG:models:Epoch [1/20], Step [100/398], Loss: 0.3089\n",
            "DEBUG:models:Epoch [1/20], Step [150/398], Loss: 0.2410\n",
            "DEBUG:models:Epoch [1/20], Step [200/398], Loss: 0.2249\n",
            "DEBUG:models:Epoch [1/20], Step [250/398], Loss: 0.2162\n",
            "DEBUG:models:Epoch [1/20], Step [300/398], Loss: 0.2074\n",
            "DEBUG:models:Epoch [1/20], Step [350/398], Loss: 0.1922\n",
            "DEBUG:models:Epoch [2/20], Step [1/398], Loss: 0.2424\n",
            "DEBUG:models:Epoch [2/20], Step [51/398], Loss: 0.1923\n",
            "DEBUG:models:Epoch [2/20], Step [101/398], Loss: 0.1846\n",
            "DEBUG:models:Epoch [2/20], Step [151/398], Loss: 0.1954\n",
            "DEBUG:models:Epoch [2/20], Step [201/398], Loss: 0.1946\n",
            "DEBUG:models:Epoch [2/20], Step [251/398], Loss: 0.1746\n",
            "DEBUG:models:Epoch [2/20], Step [301/398], Loss: 0.1778\n",
            "DEBUG:models:Epoch [2/20], Step [351/398], Loss: 0.1717\n",
            "DEBUG:models:Epoch [3/20], Step [2/398], Loss: 0.1745\n",
            "DEBUG:models:Epoch [3/20], Step [52/398], Loss: 0.1630\n",
            "DEBUG:models:Epoch [3/20], Step [102/398], Loss: 0.1662\n",
            "DEBUG:models:Epoch [3/20], Step [152/398], Loss: 0.1790\n",
            "DEBUG:models:Epoch [3/20], Step [202/398], Loss: 0.1666\n",
            "DEBUG:models:Epoch [3/20], Step [252/398], Loss: 0.1790\n",
            "DEBUG:models:Epoch [3/20], Step [302/398], Loss: 0.1678\n",
            "DEBUG:models:Epoch [3/20], Step [352/398], Loss: 0.1647\n",
            "DEBUG:models:Epoch [4/20], Step [3/398], Loss: 0.1518\n",
            "DEBUG:models:Epoch [4/20], Step [53/398], Loss: 0.1610\n",
            "DEBUG:models:Epoch [4/20], Step [103/398], Loss: 0.1638\n",
            "DEBUG:models:Epoch [4/20], Step [153/398], Loss: 0.1581\n",
            "DEBUG:models:Epoch [4/20], Step [203/398], Loss: 0.1722\n",
            "DEBUG:models:Epoch [4/20], Step [253/398], Loss: 0.1545\n",
            "DEBUG:models:Epoch [4/20], Step [303/398], Loss: 0.1668\n",
            "DEBUG:models:Epoch [4/20], Step [353/398], Loss: 0.1493\n",
            "DEBUG:models:Epoch [5/20], Step [4/398], Loss: 0.1591\n",
            "WARNING:models:No improvement in accuracy for 10 iterations.\n"
          ]
        },
        {
          "name": "stdout",
          "output_type": "stream",
          "text": [
            "Loaded MachineLearningCVE/runs/nn5/Kfold-4th_run/optim_Adam_lr_0.001_reg_1e-05_bs_5120 model trained with batch_size = 5120, seen 2 epochs and 351 mini batches\n",
            "balanced test acc:  79.12800402504438\n",
            "85.63\n"
          ]
        }
      ],
      "source": [
        "#neural network with 5 layer\n",
        "method = 'nn5'\n",
        "K=5\n",
        "results = Kfold_evaluation(X,y,method=method,K=K,lr=1e-3,reg=1e-5,num_epochs=20)\n",
        "\n",
        "sum_test_acc = 0\n",
        "for fold_index,res in results.items():\n",
        "    (test_acc) = res\n",
        "    sum_test_acc+= test_acc\n",
        "print('{0:.2f}'.format(sum_test_acc/K))"
      ]
    }
  ],
  "metadata": {
    "accelerator": "GPU",
    "colab": {
      "gpuType": "A100",
      "machine_shape": "hm",
      "provenance": []
    },
    "gpuClass": "standard",
    "kernelspec": {
      "display_name": "Python 3",
      "language": "python",
      "name": "python3"
    },
    "language_info": {
      "codemirror_mode": {
        "name": "ipython",
        "version": 3
      },
      "file_extension": ".py",
      "mimetype": "text/x-python",
      "name": "python",
      "nbconvert_exporter": "python",
      "pygments_lexer": "ipython3",
      "version": "3.6.8"
    }
  },
  "nbformat": 4,
  "nbformat_minor": 0
}
