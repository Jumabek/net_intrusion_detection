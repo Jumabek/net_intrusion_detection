{
  "nbformat": 4,
  "nbformat_minor": 0,
  "metadata": {
    "colab": {
      "provenance": [],
      "machine_shape": "hm",
      "gpuType": "A100",
      "authorship_tag": "ABX9TyNDK8fYEZRYSjjDCc5zQfMQ",
      "include_colab_link": true
    },
    "kernelspec": {
      "name": "python3",
      "display_name": "Python 3"
    },
    "language_info": {
      "name": "python"
    },
    "accelerator": "GPU"
  },
  "cells": [
    {
      "cell_type": "markdown",
      "metadata": {
        "id": "view-in-github",
        "colab_type": "text"
      },
      "source": [
        "<a href=\"https://colab.research.google.com/github/Jumabek/net_intrusion_detection/blob/transformer/Comparing_batchsizes.ipynb\" target=\"_parent\"><img src=\"https://colab.research.google.com/assets/colab-badge.svg\" alt=\"Open In Colab\"/></a>"
      ]
    },
    {
      "cell_type": "code",
      "execution_count": 1,
      "metadata": {
        "colab": {
          "base_uri": "https://localhost:8080/"
        },
        "id": "0dAu29GQkvSk",
        "outputId": "513f1ae6-d5ce-4643-a025-fbded5b41968"
      },
      "outputs": [
        {
          "output_type": "stream",
          "name": "stdout",
          "text": [
            "/usr/local/lib/python3.10/dist-packages/gdown/cli.py:121: FutureWarning: Option `--id` was deprecated in version 4.3.1 and will be removed in 5.0. You don't need to pass it anymore to use a file ID.\n",
            "  warnings.warn(\n",
            "Downloading...\n",
            "From: https://drive.google.com/uc?id=1-t3RdDpmqMs4ABt9oobSapeNYTZJ9tpu\n",
            "To: /content/MachineLearningCSV.zip\n",
            "100% 235M/235M [00:07<00:00, 31.8MB/s]\n",
            "Archive:  MachineLearningCSV.zip\n",
            "   creating: MachineLearningCVE/\n",
            "  inflating: MachineLearningCVE/Wednesday-workingHours.pcap_ISCX.csv  \n",
            "  inflating: MachineLearningCVE/Tuesday-WorkingHours.pcap_ISCX.csv  \n",
            "  inflating: MachineLearningCVE/Thursday-WorkingHours-Morning-WebAttacks.pcap_ISCX.csv  \n",
            "  inflating: MachineLearningCVE/Thursday-WorkingHours-Afternoon-Infilteration.pcap_ISCX.csv  \n",
            "  inflating: MachineLearningCVE/Monday-WorkingHours.pcap_ISCX.csv  \n",
            "  inflating: MachineLearningCVE/Friday-WorkingHours-Morning.pcap_ISCX.csv  \n",
            "  inflating: MachineLearningCVE/Friday-WorkingHours-Afternoon-PortScan.pcap_ISCX.csv  \n",
            "  inflating: MachineLearningCVE/Friday-WorkingHours-Afternoon-DDos.pcap_ISCX.csv  \n"
          ]
        }
      ],
      "source": [
        "!gdown --id 1-t3RdDpmqMs4ABt9oobSapeNYTZJ9tpu\n",
        "!unzip MachineLearningCSV.zip"
      ]
    },
    {
      "cell_type": "code",
      "source": [
        "!wget https://raw.githubusercontent.com/Jumabek/net_intrusion_detection/develop/preprocessing.py"
      ],
      "metadata": {
        "colab": {
          "base_uri": "https://localhost:8080/"
        },
        "id": "lmvjuPRZkyvY",
        "outputId": "fa5239ec-ff9b-407b-ae9e-2671eea05f10"
      },
      "execution_count": 2,
      "outputs": [
        {
          "output_type": "stream",
          "name": "stdout",
          "text": [
            "--2023-08-18 03:04:41--  https://raw.githubusercontent.com/Jumabek/net_intrusion_detection/develop/preprocessing.py\n",
            "Resolving raw.githubusercontent.com (raw.githubusercontent.com)... 185.199.108.133, 185.199.109.133, 185.199.110.133, ...\n",
            "Connecting to raw.githubusercontent.com (raw.githubusercontent.com)|185.199.108.133|:443... connected.\n",
            "HTTP request sent, awaiting response... 200 OK\n",
            "Length: 3790 (3.7K) [text/plain]\n",
            "Saving to: ‘preprocessing.py’\n",
            "\n",
            "preprocessing.py    100%[===================>]   3.70K  --.-KB/s    in 0s      \n",
            "\n",
            "2023-08-18 03:04:41 (19.3 MB/s) - ‘preprocessing.py’ saved [3790/3790]\n",
            "\n"
          ]
        }
      ]
    },
    {
      "cell_type": "code",
      "source": [
        "import torch\n",
        "import torch.nn as nn\n",
        "import torch.optim as optim\n",
        "from torch.utils.data import DataLoader, TensorDataset\n",
        "from sklearn.model_selection import train_test_split\n",
        "from sklearn.preprocessing import LabelEncoder, StandardScaler\n",
        "from sklearn.metrics import accuracy_score\n",
        "from preprocessing import load_data, balance_data, normalize\n",
        "import pandas as pd\n",
        "import numpy as np\n",
        "from sklearn.metrics import accuracy_score, f1_score, precision_score, recall_score\n"
      ],
      "metadata": {
        "id": "C5YIfzBukywm"
      },
      "execution_count": 3,
      "outputs": []
    },
    {
      "cell_type": "code",
      "source": [
        "dataroot = 'MachineLearningCVE/'\n",
        "from preprocessing import read_data\n",
        "data = read_data(dataroot,'*.pcap_ISCX.csv')"
      ],
      "metadata": {
        "colab": {
          "base_uri": "https://localhost:8080/"
        },
        "id": "512OIExqkzUL",
        "outputId": "b3e74178-c8a1-47e8-b14d-fd42ac127db7"
      },
      "execution_count": 4,
      "outputs": [
        {
          "output_type": "stream",
          "name": "stdout",
          "text": [
            "[########################################] | 100% Completed | 31.48 s\n"
          ]
        }
      ]
    },
    {
      "cell_type": "code",
      "source": [
        "# Load, balance and normalize the data\n",
        "X, y = load_data(dataroot)\n",
        "X, y = balance_data(X, y, seed=42)\n",
        "X = normalize(X)"
      ],
      "metadata": {
        "colab": {
          "base_uri": "https://localhost:8080/"
        },
        "id": "K8QOHX8gkzWq",
        "outputId": "5ef38ff5-6f89-4c6f-ee98-525c169d203d"
      },
      "execution_count": 5,
      "outputs": [
        {
          "output_type": "stream",
          "name": "stdout",
          "text": [
            "[########################################] | 100% Completed | 30.86 s\n",
            "there are 2830743 flow records with 79 feature dimension\n",
            "stripped column names\n",
            "dropped bad columns\n",
            "There are 0 nan entries\n",
            "converted to numeric\n"
          ]
        }
      ]
    },
    {
      "cell_type": "code",
      "source": [
        "# Use only 10% of the data\n",
        "sample_idx = np.random.choice(len(X), int(0.1*len(X)), replace=False)\n",
        "X = X[sample_idx]\n",
        "y = y[sample_idx]"
      ],
      "metadata": {
        "id": "JEb1He-vkzZT"
      },
      "execution_count": 6,
      "outputs": []
    },
    {
      "cell_type": "code",
      "source": [
        "# Splitting the Data\n",
        "X_temp, X_test, y_temp, y_test = train_test_split(X, y, test_size=0.15, random_state=42)\n",
        "X_train, X_val, y_train, y_val = train_test_split(X_temp, y_temp, test_size=0.176, random_state=42)\n",
        "\n",
        "# Convert data to PyTorch tensors\n",
        "X_train_tensor = torch.tensor(X_train, dtype=torch.float32)\n",
        "y_train_tensor = torch.tensor(y_train, dtype=torch.long)\n",
        "X_test_tensor = torch.tensor(X_test, dtype=torch.float32)\n",
        "y_test_tensor = torch.tensor(y_test, dtype=torch.long)"
      ],
      "metadata": {
        "id": "xHxwfHbvkzb7"
      },
      "execution_count": 7,
      "outputs": []
    },
    {
      "cell_type": "code",
      "source": [
        "class TransformerModel(nn.Module):\n",
        "    def __init__(self, input_dim, num_classes, d_model=64, nhead=8, num_layers=4, dim_feedforward=128, dropout=0.1):\n",
        "        super(TransformerModel, self).__init__()\n",
        "        self.embedding = nn.Linear(input_dim, d_model)\n",
        "        self.transformer = nn.Transformer(\n",
        "            d_model=d_model,\n",
        "            nhead=nhead,\n",
        "            num_encoder_layers=num_layers,\n",
        "            num_decoder_layers=num_layers,\n",
        "            dim_feedforward=dim_feedforward,\n",
        "            dropout=dropout\n",
        "        )\n",
        "        self.fc = nn.Linear(d_model, num_classes)\n",
        "\n",
        "    def forward(self, x):\n",
        "        x = self.embedding(x)\n",
        "        x = x.unsqueeze(1)  # Add a fake batch dimension for the transformer\n",
        "        x = self.transformer(x, x)  # Encoder-Decoder Self-Attention\n",
        "        x = x.squeeze(1)\n",
        "        x = self.fc(x)\n",
        "        return x\n",
        "\n",
        "\n",
        "def evaluate_model(model, data_loader):\n",
        "    model.eval()\n",
        "    true_labels = []\n",
        "    predicted_labels = []\n",
        "\n",
        "    with torch.no_grad():\n",
        "        for data, labels in data_loader:\n",
        "            data = data.cuda()\n",
        "            labels = labels.cuda()\n",
        "\n",
        "            outputs = model(data)\n",
        "            _, predicted = torch.max(outputs.data, 1)\n",
        "            true_labels.extend(labels.cpu().numpy())\n",
        "            predicted_labels.extend(predicted.cpu().numpy())\n",
        "\n",
        "    accuracy = accuracy_score(true_labels, predicted_labels)\n",
        "    f1 = f1_score(true_labels, predicted_labels, average='weighted')\n",
        "    precision = precision_score(true_labels, predicted_labels, average='weighted')\n",
        "    recall = recall_score(true_labels, predicted_labels, average='weighted')\n",
        "\n",
        "    return accuracy, f1, precision, recall\n"
      ],
      "metadata": {
        "id": "d8_Wrwa9kzec"
      },
      "execution_count": 8,
      "outputs": []
    },
    {
      "cell_type": "code",
      "source": [
        "def train_model(batch_size):\n",
        "    # Dataset and Dataloader\n",
        "    train_dataset = TensorDataset(X_train_tensor, y_train_tensor)\n",
        "    test_dataset = TensorDataset(X_test_tensor, y_test_tensor)\n",
        "    train_loader = DataLoader(train_dataset, batch_size=batch_size, shuffle=True)\n",
        "\n",
        "    # Model Configuration\n",
        "    input_dim = X_train_tensor.shape[1]\n",
        "    num_classes = len(np.unique(y))\n",
        "    model = TransformerModel(input_dim, num_classes)\n",
        "    model = model.cuda()\n",
        "\n",
        "    # Loss and Optimizer\n",
        "    criterion = nn.CrossEntropyLoss()\n",
        "    optimizer = optim.Adam(model.parameters(), lr=0.001)\n",
        "\n",
        "    # Training Loop\n",
        "    for epoch in range(10):\n",
        "        model.train()\n",
        "        running_loss = 0.0\n",
        "        for i, (data, labels) in enumerate(train_loader):\n",
        "            data = data.cuda()\n",
        "            labels = labels.cuda()\n",
        "\n",
        "            outputs = model(data)\n",
        "            loss = criterion(outputs, labels)\n",
        "\n",
        "            optimizer.zero_grad()\n",
        "            loss.backward()\n",
        "            optimizer.step()\n",
        "\n",
        "            running_loss += loss.item()\n",
        "\n",
        "        print(f'Batch size: {batch_size}, Epoch [{epoch + 1}/5], Loss: {running_loss / len(train_loader)}')\n",
        "    accuracy, f1, precision, recall = evaluate_model(model, DataLoader(test_dataset, batch_size=batch_size))\n",
        "    print(f'Batch size: {batch_size}, Accuracy: {accuracy:.4f}, F1: {f1:.4f}, Precision: {precision:.4f}, Recall: {recall:.4f}')\n",
        "\n",
        "    return accuracy, f1, precision, recall\n",
        "\n"
      ],
      "metadata": {
        "id": "weUU8r5dkzhL"
      },
      "execution_count": 9,
      "outputs": []
    },
    {
      "cell_type": "code",
      "source": [
        "# Lists to store metrics for each model configuration\n",
        "batch_sizes = [1024, 2048, 3072, 4096, 5120]\n",
        "accuracies = []\n",
        "f1_scores = []\n",
        "precisions = []\n",
        "recalls = []\n",
        "\n",
        "for batch_size in batch_sizes:\n",
        "    acc, f1, prec, rec = train_model(batch_size)\n",
        "    accuracies.append(acc)\n",
        "    f1_scores.append(f1)\n",
        "    precisions.append(prec)\n",
        "    recalls.append(rec)\n"
      ],
      "metadata": {
        "colab": {
          "base_uri": "https://localhost:8080/"
        },
        "id": "1i4_PrErkzj1",
        "outputId": "5beef03f-1191-495f-9102-08593d865408"
      },
      "execution_count": 10,
      "outputs": [
        {
          "output_type": "stream",
          "name": "stdout",
          "text": [
            "Batch size: 1024, Epoch [1/5], Loss: 0.8105628318393353\n",
            "Batch size: 1024, Epoch [2/5], Loss: 0.3187107890844345\n",
            "Batch size: 1024, Epoch [3/5], Loss: 0.2581912268375613\n",
            "Batch size: 1024, Epoch [4/5], Loss: 0.2341085872084824\n",
            "Batch size: 1024, Epoch [5/5], Loss: 0.22175936585234612\n",
            "Batch size: 1024, Epoch [6/5], Loss: 0.2093546876741439\n",
            "Batch size: 1024, Epoch [7/5], Loss: 0.20141035180116437\n",
            "Batch size: 1024, Epoch [8/5], Loss: 0.19629090041229405\n",
            "Batch size: 1024, Epoch [9/5], Loss: 0.1933908270499141\n",
            "Batch size: 1024, Epoch [10/5], Loss: 0.18717669979813173\n",
            "Batch size: 1024, Accuracy: 0.9092, F1: 0.8961, Precision: 0.9355, Recall: 0.9092\n",
            "Batch size: 2048, Epoch [1/5], Loss: 1.1019933623136933\n",
            "Batch size: 2048, Epoch [2/5], Loss: 0.42619653798870205\n",
            "Batch size: 2048, Epoch [3/5], Loss: 0.31386198272410126\n",
            "Batch size: 2048, Epoch [4/5], Loss: 0.27527626457902576\n",
            "Batch size: 2048, Epoch [5/5], Loss: 0.24781949003947149\n",
            "Batch size: 2048, Epoch [6/5], Loss: 0.23761819226225628\n",
            "Batch size: 2048, Epoch [7/5], Loss: 0.2293107558771507\n",
            "Batch size: 2048, Epoch [8/5], Loss: 0.21828149858209275\n",
            "Batch size: 2048, Epoch [9/5], Loss: 0.21223709417372635\n",
            "Batch size: 2048, Epoch [10/5], Loss: 0.20462471369615534\n",
            "Batch size: 2048, Accuracy: 0.9052, F1: 0.8985, Precision: 0.9163, Recall: 0.9052\n",
            "Batch size: 3072, Epoch [1/5], Loss: 1.4275411477455726\n",
            "Batch size: 3072, Epoch [2/5], Loss: 0.5109200005347913\n",
            "Batch size: 3072, Epoch [3/5], Loss: 0.3624129144045023\n",
            "Batch size: 3072, Epoch [4/5], Loss: 0.31995740166077247\n",
            "Batch size: 3072, Epoch [5/5], Loss: 0.2998527792783884\n",
            "Batch size: 3072, Epoch [6/5], Loss: 0.25494545996189116\n",
            "Batch size: 3072, Epoch [7/5], Loss: 0.24447495524699872\n",
            "Batch size: 3072, Epoch [8/5], Loss: 0.23361299748604114\n",
            "Batch size: 3072, Epoch [9/5], Loss: 0.23009224075537463\n",
            "Batch size: 3072, Epoch [10/5], Loss: 0.21212637630792763\n",
            "Batch size: 3072, Accuracy: 0.9004, F1: 0.8870, Precision: 0.9285, Recall: 0.9004\n",
            "Batch size: 4096, Epoch [1/5], Loss: 1.6201762046132768\n",
            "Batch size: 4096, Epoch [2/5], Loss: 0.5895847915386667\n",
            "Batch size: 4096, Epoch [3/5], Loss: 0.4026112294926935\n",
            "Batch size: 4096, Epoch [4/5], Loss: 0.3481592262277798\n",
            "Batch size: 4096, Epoch [5/5], Loss: 0.3046143340821169\n",
            "Batch size: 4096, Epoch [6/5], Loss: 0.27268787367003305\n",
            "Batch size: 4096, Epoch [7/5], Loss: 0.26220897874053645\n",
            "Batch size: 4096, Epoch [8/5], Loss: 0.24970067915867786\n",
            "Batch size: 4096, Epoch [9/5], Loss: 0.23888455148862334\n",
            "Batch size: 4096, Epoch [10/5], Loss: 0.22731351913238057\n",
            "Batch size: 4096, Accuracy: 0.8943, F1: 0.8789, Precision: 0.9247, Recall: 0.8943\n",
            "Batch size: 5120, Epoch [1/5], Loss: 1.8474161319243603\n",
            "Batch size: 5120, Epoch [2/5], Loss: 0.7148380707471799\n",
            "Batch size: 5120, Epoch [3/5], Loss: 0.45954794761462087\n",
            "Batch size: 5120, Epoch [4/5], Loss: 0.37290154817776805\n",
            "Batch size: 5120, Epoch [5/5], Loss: 0.33545215848164683\n",
            "Batch size: 5120, Epoch [6/5], Loss: 0.31637752743867725\n",
            "Batch size: 5120, Epoch [7/5], Loss: 0.29094545504985714\n",
            "Batch size: 5120, Epoch [8/5], Loss: 0.2602297694255144\n",
            "Batch size: 5120, Epoch [9/5], Loss: 0.25040856576882875\n",
            "Batch size: 5120, Epoch [10/5], Loss: 0.25342052487226635\n",
            "Batch size: 5120, Accuracy: 0.8911, F1: 0.8751, Precision: 0.9210, Recall: 0.8911\n"
          ]
        }
      ]
    },
    {
      "cell_type": "code",
      "source": [
        "# Plotting the metrics\n",
        "import matplotlib.pyplot as plt\n",
        "import numpy as np\n",
        "\n",
        "# Create an index for each tick position\n",
        "x_indexes = np.arange(len(batch_sizes))\n",
        "width = 0.15  # the width of the bars\n",
        "\n",
        "fig, ax = plt.subplots(figsize=(12, 6))\n",
        "\n",
        "# Generate bar graphs\n",
        "rects1 = ax.bar(x_indexes - 2 * width, accuracies, width, label='Accuracy')\n",
        "rects2 = ax.bar(x_indexes - width, f1_scores, width, label='F1 Score')\n",
        "rects3 = ax.bar(x_indexes, precisions, width, label='Precision')\n",
        "rects4 = ax.bar(x_indexes + width, recalls, width, label='Recall')\n",
        "\n",
        "# Add some text for labels, title and custom x-axis tick labels, etc.\n",
        "ax.set_xlabel('Number of Attention Heads ')\n",
        "ax.set_ylabel('Scores')\n",
        "ax.set_title('Scores by Number of Attention Heads ')\n",
        "ax.set_xticks(x_indexes)\n",
        "ax.set_xticklabels(batch_sizes)\n",
        "ax.legend()\n",
        "\n",
        "# Attach a text label above each bar in *rects*, displaying its height\n",
        "for rects in [rects1, rects2, rects3, rects4]:\n",
        "    for rect in rects:\n",
        "        height = rect.get_height()\n",
        "        ax.annotate('{:.2f}'.format(height),\n",
        "                    xy=(rect.get_x() + rect.get_width() / 2, height),\n",
        "                    xytext=(0, 3),  # 3 points vertical offset\n",
        "                    textcoords=\"offset points\",\n",
        "                    ha='center', va='bottom')\n",
        "\n",
        "fig.tight_layout()\n",
        "\n",
        "plt.show()\n"
      ],
      "metadata": {
        "colab": {
          "base_uri": "https://localhost:8080/",
          "height": 607
        },
        "id": "TQS3-xWrlKS8",
        "outputId": "ae7853b2-49b4-49a8-9294-ad0edae8a100"
      },
      "execution_count": 11,
      "outputs": [
        {
          "output_type": "display_data",
          "data": {
            "text/plain": [
              "<Figure size 1200x600 with 1 Axes>"
            ],
            "image/png": "[encoded data removed]"
          },
          "metadata": {}
        }
      ]
    },
    {
      "cell_type": "code",
      "source": [
        "print(\"nheads:\", nheads)\n",
        "print(\"accuracies:\", accuracies)\n",
        "print(\"f1_scores:\", f1_scores)\n",
        "print(\"precisions:\", precisions)\n",
        "print(\"recalls:\", recalls)"
      ],
      "metadata": {
        "id": "8j9fPxraocSe"
      },
      "execution_count": null,
      "outputs": []
    }
  ]
}