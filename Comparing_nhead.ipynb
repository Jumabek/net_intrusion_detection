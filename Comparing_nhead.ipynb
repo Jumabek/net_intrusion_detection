{
  "nbformat": 4,
  "nbformat_minor": 0,
  "metadata": {
    "colab": {
      "provenance": [],
      "machine_shape": "hm",
      "gpuType": "A100",
      "authorship_tag": "ABX9TyN4PtDTbNF810KZtPSZgJJZ",
      "include_colab_link": true
    },
    "kernelspec": {
      "name": "python3",
      "display_name": "Python 3"
    },
    "language_info": {
      "name": "python"
    },
    "accelerator": "GPU"
  },
  "cells": [
    {
      "cell_type": "markdown",
      "metadata": {
        "id": "view-in-github",
        "colab_type": "text"
      },
      "source": [
        "<a href=\"https://colab.research.google.com/github/Jumabek/net_intrusion_detection/blob/transformer/Comparing_nhead.ipynb\" target=\"_parent\"><img src=\"https://colab.research.google.com/assets/colab-badge.svg\" alt=\"Open In Colab\"/></a>"
      ]
    },
    {
      "cell_type": "code",
      "execution_count": 1,
      "metadata": {
        "colab": {
          "base_uri": "https://localhost:8080/"
        },
        "id": "nTA1Tj0PEknc",
        "outputId": "b9a9c7b4-fc99-42e6-9a66-2520176b1ec3"
      },
      "outputs": [
        {
          "output_type": "stream",
          "name": "stdout",
          "text": [
            "/usr/local/lib/python3.10/dist-packages/gdown/cli.py:121: FutureWarning: Option `--id` was deprecated in version 4.3.1 and will be removed in 5.0. You don't need to pass it anymore to use a file ID.\n",
            "  warnings.warn(\n",
            "Downloading...\n",
            "From: https://drive.google.com/uc?id=1-t3RdDpmqMs4ABt9oobSapeNYTZJ9tpu\n",
            "To: /content/MachineLearningCSV.zip\n",
            "100% 235M/235M [00:01<00:00, 194MB/s]\n",
            "Archive:  MachineLearningCSV.zip\n",
            "replace MachineLearningCVE/Wednesday-workingHours.pcap_ISCX.csv? [y]es, [n]o, [A]ll, [N]one, [r]ename: y\n",
            "  inflating: MachineLearningCVE/Wednesday-workingHours.pcap_ISCX.csv  \n",
            "replace MachineLearningCVE/Tuesday-WorkingHours.pcap_ISCX.csv? [y]es, [n]o, [A]ll, [N]one, [r]ename: y\n",
            "  inflating: MachineLearningCVE/Tuesday-WorkingHours.pcap_ISCX.csv  \n",
            "replace MachineLearningCVE/Thursday-WorkingHours-Morning-WebAttacks.pcap_ISCX.csv? [y]es, [n]o, [A]ll, [N]one, [r]ename: y\n",
            "  inflating: MachineLearningCVE/Thursday-WorkingHours-Morning-WebAttacks.pcap_ISCX.csv  \n",
            "replace MachineLearningCVE/Thursday-WorkingHours-Afternoon-Infilteration.pcap_ISCX.csv? [y]es, [n]o, [A]ll, [N]one, [r]ename: y\n",
            "  inflating: MachineLearningCVE/Thursday-WorkingHours-Afternoon-Infilteration.pcap_ISCX.csv  \n",
            "replace MachineLearningCVE/Monday-WorkingHours.pcap_ISCX.csv? [y]es, [n]o, [A]ll, [N]one, [r]ename: y\n",
            "  inflating: MachineLearningCVE/Monday-WorkingHours.pcap_ISCX.csv  \n",
            "replace MachineLearningCVE/Friday-WorkingHours-Morning.pcap_ISCX.csv? [y]es, [n]o, [A]ll, [N]one, [r]ename: y\n",
            "  inflating: MachineLearningCVE/Friday-WorkingHours-Morning.pcap_ISCX.csv  \n",
            "replace MachineLearningCVE/Friday-WorkingHours-Afternoon-PortScan.pcap_ISCX.csv? [y]es, [n]o, [A]ll, [N]one, [r]ename: y\n",
            "  inflating: MachineLearningCVE/Friday-WorkingHours-Afternoon-PortScan.pcap_ISCX.csv  \n",
            "replace MachineLearningCVE/Friday-WorkingHours-Afternoon-DDos.pcap_ISCX.csv? [y]es, [n]o, [A]ll, [N]one, [r]ename: y\n",
            "  inflating: MachineLearningCVE/Friday-WorkingHours-Afternoon-DDos.pcap_ISCX.csv  \n"
          ]
        }
      ],
      "source": [
        "!gdown --id 1-t3RdDpmqMs4ABt9oobSapeNYTZJ9tpu\n",
        "!unzip MachineLearningCSV.zip"
      ]
    },
    {
      "cell_type": "code",
      "source": [
        "!wget https://raw.githubusercontent.com/Jumabek/net_intrusion_detection/develop/preprocessing.py"
      ],
      "metadata": {
        "colab": {
          "base_uri": "https://localhost:8080/"
        },
        "id": "sKIQROFJElpB",
        "outputId": "c57ee4c2-df91-468e-e0ac-702c55e9e666"
      },
      "execution_count": 2,
      "outputs": [
        {
          "output_type": "stream",
          "name": "stdout",
          "text": [
            "--2023-08-18 02:40:17--  https://raw.githubusercontent.com/Jumabek/net_intrusion_detection/develop/preprocessing.py\n",
            "Resolving raw.githubusercontent.com (raw.githubusercontent.com)... 185.199.108.133, 185.199.109.133, 185.199.110.133, ...\n",
            "Connecting to raw.githubusercontent.com (raw.githubusercontent.com)|185.199.108.133|:443... connected.\n",
            "HTTP request sent, awaiting response... 200 OK\n",
            "Length: 3790 (3.7K) [text/plain]\n",
            "Saving to: ‘preprocessing.py’\n",
            "\n",
            "\rpreprocessing.py      0%[                    ]       0  --.-KB/s               \rpreprocessing.py    100%[===================>]   3.70K  --.-KB/s    in 0s      \n",
            "\n",
            "2023-08-18 02:40:18 (35.7 MB/s) - ‘preprocessing.py’ saved [3790/3790]\n",
            "\n"
          ]
        }
      ]
    },
    {
      "cell_type": "code",
      "source": [
        "import torch\n",
        "import torch.nn as nn\n",
        "import torch.optim as optim\n",
        "from torch.utils.data import DataLoader, TensorDataset\n",
        "from sklearn.model_selection import train_test_split\n",
        "from sklearn.preprocessing import LabelEncoder, StandardScaler\n",
        "from sklearn.metrics import accuracy_score\n",
        "from preprocessing import load_data, balance_data, normalize\n",
        "import pandas as pd\n",
        "import numpy as np\n",
        "from sklearn.metrics import accuracy_score, f1_score, precision_score, recall_score\n"
      ],
      "metadata": {
        "id": "Io4wsV4QElrJ"
      },
      "execution_count": 3,
      "outputs": []
    },
    {
      "cell_type": "code",
      "source": [
        "dataroot = 'MachineLearningCVE/'\n",
        "from preprocessing import read_data\n",
        "data = read_data(dataroot,'*.pcap_ISCX.csv')"
      ],
      "metadata": {
        "colab": {
          "base_uri": "https://localhost:8080/"
        },
        "id": "q1acJgPTEltv",
        "outputId": "68eb3d73-152c-4816-8d1f-fce9a1f599d0"
      },
      "execution_count": 4,
      "outputs": [
        {
          "output_type": "stream",
          "name": "stdout",
          "text": [
            "[########################################] | 100% Completed | 29.51 s\n"
          ]
        }
      ]
    },
    {
      "cell_type": "code",
      "source": [
        "# Load, balance and normalize the data\n",
        "X, y = load_data(dataroot)\n",
        "X, y = balance_data(X, y, seed=42)\n",
        "X = normalize(X)"
      ],
      "metadata": {
        "colab": {
          "base_uri": "https://localhost:8080/"
        },
        "id": "VgdXFVovElwB",
        "outputId": "4ca53042-129a-4a00-cb11-8fea67a65422"
      },
      "execution_count": 5,
      "outputs": [
        {
          "output_type": "stream",
          "name": "stdout",
          "text": [
            "[########################################] | 100% Completed | 29.01 s\n",
            "there are 2830743 flow records with 79 feature dimension\n",
            "stripped column names\n",
            "dropped bad columns\n",
            "There are 0 nan entries\n",
            "converted to numeric\n"
          ]
        }
      ]
    },
    {
      "cell_type": "code",
      "source": [
        "# Use only 10% of the data\n",
        "sample_idx = np.random.choice(len(X), int(0.1*len(X)), replace=False)\n",
        "X = X[sample_idx]\n",
        "y = y[sample_idx]"
      ],
      "metadata": {
        "id": "o38QhG_rElyl"
      },
      "execution_count": 6,
      "outputs": []
    },
    {
      "cell_type": "code",
      "source": [
        "# Splitting the Data\n",
        "X_temp, X_test, y_temp, y_test = train_test_split(X, y, test_size=0.15, random_state=42)\n",
        "X_train, X_val, y_train, y_val = train_test_split(X_temp, y_temp, test_size=0.176, random_state=42)\n",
        "\n",
        "# Convert data to PyTorch tensors\n",
        "X_train_tensor = torch.tensor(X_train, dtype=torch.float32)\n",
        "y_train_tensor = torch.tensor(y_train, dtype=torch.long)\n",
        "X_test_tensor = torch.tensor(X_test, dtype=torch.float32)\n",
        "y_test_tensor = torch.tensor(y_test, dtype=torch.long)"
      ],
      "metadata": {
        "id": "0XtCF08iEl0_"
      },
      "execution_count": 7,
      "outputs": []
    },
    {
      "cell_type": "code",
      "source": [
        "class TransformerModel(nn.Module):\n",
        "    def __init__(self, input_dim, num_classes, d_model=64, nhead=8, num_layers=4, dim_feedforward=128, dropout=0.1):\n",
        "        super(TransformerModel, self).__init__()\n",
        "        self.embedding = nn.Linear(input_dim, d_model)\n",
        "        self.transformer = nn.Transformer(\n",
        "            d_model=d_model,\n",
        "            nhead=nhead,\n",
        "            num_encoder_layers=num_layers,\n",
        "            num_decoder_layers=num_layers,\n",
        "            dim_feedforward=dim_feedforward,\n",
        "            dropout=dropout\n",
        "        )\n",
        "        self.fc = nn.Linear(d_model, num_classes)\n",
        "\n",
        "    def forward(self, x):\n",
        "        x = self.embedding(x)\n",
        "        x = x.unsqueeze(1)  # Add a fake batch dimension for the transformer\n",
        "        x = self.transformer(x, x)  # Encoder-Decoder Self-Attention\n",
        "        x = x.squeeze(1)\n",
        "        x = self.fc(x)\n",
        "        return x\n",
        "\n",
        "\n",
        "def evaluate_model(model, data_loader):\n",
        "    model.eval()\n",
        "    true_labels = []\n",
        "    predicted_labels = []\n",
        "\n",
        "    with torch.no_grad():\n",
        "        for data, labels in data_loader:\n",
        "            data = data.cuda()\n",
        "            labels = labels.cuda()\n",
        "\n",
        "            outputs = model(data)\n",
        "            _, predicted = torch.max(outputs.data, 1)\n",
        "            true_labels.extend(labels.cpu().numpy())\n",
        "            predicted_labels.extend(predicted.cpu().numpy())\n",
        "\n",
        "    accuracy = accuracy_score(true_labels, predicted_labels)\n",
        "    f1 = f1_score(true_labels, predicted_labels, average='weighted')\n",
        "    precision = precision_score(true_labels, predicted_labels, average='weighted')\n",
        "    recall = recall_score(true_labels, predicted_labels, average='weighted')\n",
        "\n",
        "    return accuracy, f1, precision, recall\n"
      ],
      "metadata": {
        "id": "yRGhFflKEl3z"
      },
      "execution_count": 8,
      "outputs": []
    },
    {
      "cell_type": "code",
      "source": [
        "def train_model(nhead):\n",
        "    # Dataset and Dataloader\n",
        "    train_dataset = TensorDataset(X_train_tensor, y_train_tensor)\n",
        "    test_dataset = TensorDataset(X_test_tensor, y_test_tensor)\n",
        "    batch_size = 5120\n",
        "    train_loader = DataLoader(train_dataset, batch_size=batch_size, shuffle=True)\n",
        "\n",
        "    # Model Configuration\n",
        "    input_dim = X_train_tensor.shape[1]\n",
        "    num_classes = len(np.unique(y))\n",
        "    model = TransformerModel(input_dim, num_classes, nhead = nhead, d_model=nhead*nhead)\n",
        "    model = model.cuda()\n",
        "\n",
        "    # Loss and Optimizer\n",
        "    criterion = nn.CrossEntropyLoss()\n",
        "    optimizer = optim.Adam(model.parameters(), lr=0.001)\n",
        "\n",
        "    # Training Loop\n",
        "    for epoch in range(10):\n",
        "        model.train()\n",
        "        running_loss = 0.0\n",
        "        for i, (data, labels) in enumerate(train_loader):\n",
        "            data = data.cuda()\n",
        "            labels = labels.cuda()\n",
        "\n",
        "            outputs = model(data)\n",
        "            loss = criterion(outputs, labels)\n",
        "\n",
        "            optimizer.zero_grad()\n",
        "            loss.backward()\n",
        "            optimizer.step()\n",
        "\n",
        "            running_loss += loss.item()\n",
        "\n",
        "        print(f'Num heads: {nhead}, Epoch [{epoch + 1}/5], Loss: {running_loss / len(train_loader)}')\n",
        "    accuracy, f1, precision, recall = evaluate_model(model, DataLoader(test_dataset, batch_size=batch_size))\n",
        "    print(f'Num heads: {nhead}, Accuracy: {accuracy:.4f}, F1: {f1:.4f}, Precision: {precision:.4f}, Recall: {recall:.4f}')\n",
        "\n",
        "    return accuracy, f1, precision, recall\n",
        "\n"
      ],
      "metadata": {
        "id": "CSrQ8G0fE5C3"
      },
      "execution_count": 9,
      "outputs": []
    },
    {
      "cell_type": "code",
      "source": [
        "# Lists to store metrics for each model configuration\n",
        "nheads = [2,3,4,5,6,7,8,9,10]\n",
        "accuracies = []\n",
        "f1_scores = []\n",
        "precisions = []\n",
        "recalls = []\n",
        "\n",
        "for nhead in nheads:\n",
        "    acc, f1, prec, rec = train_model(nhead)\n",
        "    accuracies.append(acc)\n",
        "    f1_scores.append(f1)\n",
        "    precisions.append(prec)\n",
        "    recalls.append(rec)\n"
      ],
      "metadata": {
        "colab": {
          "base_uri": "https://localhost:8080/"
        },
        "id": "KoZebkc2E5Fs",
        "outputId": "83fa21ae-cca1-41d4-dd38-992f01e96fbe"
      },
      "execution_count": 10,
      "outputs": [
        {
          "output_type": "stream",
          "name": "stdout",
          "text": [
            "Num heads: 2, Epoch [1/5], Loss: 2.585339203858987\n",
            "Num heads: 2, Epoch [2/5], Loss: 2.3466214583470273\n",
            "Num heads: 2, Epoch [3/5], Loss: 2.1861253457191663\n",
            "Num heads: 2, Epoch [4/5], Loss: 2.073125674174382\n",
            "Num heads: 2, Epoch [5/5], Loss: 1.9799619271205022\n",
            "Num heads: 2, Epoch [6/5], Loss: 1.8778635416275415\n",
            "Num heads: 2, Epoch [7/5], Loss: 1.7717046309740117\n",
            "Num heads: 2, Epoch [8/5], Loss: 1.682565423158499\n",
            "Num heads: 2, Epoch [9/5], Loss: 1.604793062576881\n",
            "Num heads: 2, Epoch [10/5], Loss: 1.530127152418479\n",
            "Num heads: 2, Accuracy: 0.6314, F1: 0.6081, Precision: 0.6901, Recall: 0.6314\n",
            "Num heads: 3, Epoch [1/5], Loss: 2.414217294790806\n",
            "Num heads: 3, Epoch [2/5], Loss: 1.8678340514500935\n",
            "Num heads: 3, Epoch [3/5], Loss: 1.5346826895689354\n",
            "Num heads: 3, Epoch [4/5], Loss: 1.2796357289338722\n",
            "Num heads: 3, Epoch [5/5], Loss: 1.0717540841836195\n",
            "Num heads: 3, Epoch [6/5], Loss: 0.9115618222799057\n",
            "Num heads: 3, Epoch [7/5], Loss: 0.7766994956212167\n",
            "Num heads: 3, Epoch [8/5], Loss: 0.6638798515001932\n",
            "Num heads: 3, Epoch [9/5], Loss: 0.5884985877917364\n",
            "Num heads: 3, Epoch [10/5], Loss: 0.526586529536125\n",
            "Num heads: 3, Accuracy: 0.8549, F1: 0.8364, Precision: 0.8756, Recall: 0.8549\n",
            "Num heads: 4, Epoch [1/5], Loss: 2.189572120324159\n",
            "Num heads: 4, Epoch [2/5], Loss: 1.4201080340605516\n",
            "Num heads: 4, Epoch [3/5], Loss: 1.0170318362040398\n",
            "Num heads: 4, Epoch [4/5], Loss: 0.7804094690542954\n",
            "Num heads: 4, Epoch [5/5], Loss: 0.6266367618854229\n",
            "Num heads: 4, Epoch [6/5], Loss: 0.5284652763452286\n",
            "Num heads: 4, Epoch [7/5], Loss: 0.46189502416512906\n",
            "Num heads: 4, Epoch [8/5], Loss: 0.4055146567332439\n",
            "Num heads: 4, Epoch [9/5], Loss: 0.3680212161479852\n",
            "Num heads: 4, Epoch [10/5], Loss: 0.3406269771930499\n",
            "Num heads: 4, Accuracy: 0.8843, F1: 0.8681, Precision: 0.9096, Recall: 0.8843\n",
            "Num heads: 5, Epoch [1/5], Loss: 2.0178568943952904\n",
            "Num heads: 5, Epoch [2/5], Loss: 1.1331310608448126\n",
            "Num heads: 5, Epoch [3/5], Loss: 0.7816736789850088\n",
            "Num heads: 5, Epoch [4/5], Loss: 0.5956592987745236\n",
            "Num heads: 5, Epoch [5/5], Loss: 0.4741052908775134\n",
            "Num heads: 5, Epoch [6/5], Loss: 0.4117042620976766\n",
            "Num heads: 5, Epoch [7/5], Loss: 0.3749293119479448\n",
            "Num heads: 5, Epoch [8/5], Loss: 0.33525338081213146\n",
            "Num heads: 5, Epoch [9/5], Loss: 0.30964249219649875\n",
            "Num heads: 5, Epoch [10/5], Loss: 0.29031274792475575\n",
            "Num heads: 5, Accuracy: 0.8848, F1: 0.8684, Precision: 0.9138, Recall: 0.8848\n",
            "Num heads: 6, Epoch [1/5], Loss: 2.180153421866588\n",
            "Num heads: 6, Epoch [2/5], Loss: 1.0152947474748661\n",
            "Num heads: 6, Epoch [3/5], Loss: 0.6282207247538444\n",
            "Num heads: 6, Epoch [4/5], Loss: 0.46223170252946705\n",
            "Num heads: 6, Epoch [5/5], Loss: 0.387279029075916\n",
            "Num heads: 6, Epoch [6/5], Loss: 0.34442633390426636\n",
            "Num heads: 6, Epoch [7/5], Loss: 0.3067519534856845\n",
            "Num heads: 6, Epoch [8/5], Loss: 0.28770158841059756\n",
            "Num heads: 6, Epoch [9/5], Loss: 0.2667525296027844\n",
            "Num heads: 6, Epoch [10/5], Loss: 0.2597677478423485\n",
            "Num heads: 6, Accuracy: 0.8918, F1: 0.8785, Precision: 0.9202, Recall: 0.8918\n",
            "Num heads: 7, Epoch [1/5], Loss: 1.8256781987654858\n",
            "Num heads: 7, Epoch [2/5], Loss: 0.8011263501949799\n",
            "Num heads: 7, Epoch [3/5], Loss: 0.5228757804785019\n",
            "Num heads: 7, Epoch [4/5], Loss: 0.4038505500707871\n",
            "Num heads: 7, Epoch [5/5], Loss: 0.35011620093614626\n",
            "Num heads: 7, Epoch [6/5], Loss: 0.32298296766403395\n",
            "Num heads: 7, Epoch [7/5], Loss: 0.3037506869206062\n",
            "Num heads: 7, Epoch [8/5], Loss: 0.28111952314010036\n",
            "Num heads: 7, Epoch [9/5], Loss: 0.26004112989474565\n",
            "Num heads: 7, Epoch [10/5], Loss: 0.24989345173041025\n",
            "Num heads: 7, Accuracy: 0.8911, F1: 0.8751, Precision: 0.9230, Recall: 0.8911\n",
            "Num heads: 8, Epoch [1/5], Loss: 2.1044035905446763\n",
            "Num heads: 8, Epoch [2/5], Loss: 0.7819153391397916\n",
            "Num heads: 8, Epoch [3/5], Loss: 0.480291017355063\n",
            "Num heads: 8, Epoch [4/5], Loss: 0.37692056405238616\n",
            "Num heads: 8, Epoch [5/5], Loss: 0.3381960873420422\n",
            "Num heads: 8, Epoch [6/5], Loss: 0.3018109645598974\n",
            "Num heads: 8, Epoch [7/5], Loss: 0.2913534129277254\n",
            "Num heads: 8, Epoch [8/5], Loss: 0.2560663150671201\n",
            "Num heads: 8, Epoch [9/5], Loss: 0.25790504767344546\n",
            "Num heads: 8, Epoch [10/5], Loss: 0.23649179285917526\n",
            "Num heads: 8, Accuracy: 0.8977, F1: 0.8888, Precision: 0.9106, Recall: 0.8977\n",
            "Num heads: 9, Epoch [1/5], Loss: 1.7122783125975194\n",
            "Num heads: 9, Epoch [2/5], Loss: 0.6556318891354096\n",
            "Num heads: 9, Epoch [3/5], Loss: 0.4320227801799774\n",
            "Num heads: 9, Epoch [4/5], Loss: 0.3566830318707686\n",
            "Num heads: 9, Epoch [5/5], Loss: 0.3195522549824837\n",
            "Num heads: 9, Epoch [6/5], Loss: 0.2922191321849823\n",
            "Num heads: 9, Epoch [7/5], Loss: 0.2710170585375566\n",
            "Num heads: 9, Epoch [8/5], Loss: 0.2527085439516948\n",
            "Num heads: 9, Epoch [9/5], Loss: 0.2415358298099958\n",
            "Num heads: 9, Epoch [10/5], Loss: 0.23631939253745934\n",
            "Num heads: 9, Accuracy: 0.8845, F1: 0.8688, Precision: 0.8974, Recall: 0.8845\n",
            "Num heads: 10, Epoch [1/5], Loss: 1.7500541042058895\n",
            "Num heads: 10, Epoch [2/5], Loss: 0.6226618641462082\n",
            "Num heads: 10, Epoch [3/5], Loss: 0.4164876517577049\n",
            "Num heads: 10, Epoch [4/5], Loss: 0.3471313164784358\n",
            "Num heads: 10, Epoch [5/5], Loss: 0.33465384825682026\n",
            "Num heads: 10, Epoch [6/5], Loss: 0.29478047979183686\n",
            "Num heads: 10, Epoch [7/5], Loss: 0.28092528612185746\n",
            "Num heads: 10, Epoch [8/5], Loss: 0.2551764780894304\n",
            "Num heads: 10, Epoch [9/5], Loss: 0.2385263137328319\n",
            "Num heads: 10, Epoch [10/5], Loss: 0.23865118393531212\n",
            "Num heads: 10, Accuracy: 0.8950, F1: 0.8803, Precision: 0.9220, Recall: 0.8950\n"
          ]
        }
      ]
    },
    {
      "cell_type": "code",
      "source": [
        "# Plotting the metrics\n",
        "import matplotlib.pyplot as plt\n",
        "import numpy as np\n",
        "\n",
        "# Create an index for each tick position\n",
        "x_indexes = np.arange(len(nheads))\n",
        "width = 0.15  # the width of the bars\n",
        "\n",
        "fig, ax = plt.subplots(figsize=(12, 6))\n",
        "\n",
        "# Generate bar graphs\n",
        "rects1 = ax.bar(x_indexes - 2 * width, accuracies, width, label='Accuracy')\n",
        "rects2 = ax.bar(x_indexes - width, f1_scores, width, label='F1 Score')\n",
        "rects3 = ax.bar(x_indexes, precisions, width, label='Precision')\n",
        "rects4 = ax.bar(x_indexes + width, recalls, width, label='Recall')\n",
        "\n",
        "# Add some text for labels, title and custom x-axis tick labels, etc.\n",
        "ax.set_xlabel('Number of Attention Heads ')\n",
        "ax.set_ylabel('Scores')\n",
        "ax.set_title('Scores by Number of Attention Heads ')\n",
        "ax.set_xticks(x_indexes)\n",
        "ax.set_xticklabels(nheads)\n",
        "ax.legend()\n",
        "\n",
        "# Attach a text label above each bar in *rects*, displaying its height\n",
        "for rects in [rects1, rects2, rects3, rects4]:\n",
        "    for rect in rects:\n",
        "        height = rect.get_height()\n",
        "        ax.annotate('{:.2f}'.format(height),\n",
        "                    xy=(rect.get_x() + rect.get_width() / 2, height),\n",
        "                    xytext=(0, 3),  # 3 points vertical offset\n",
        "                    textcoords=\"offset points\",\n",
        "                    ha='center', va='bottom')\n",
        "\n",
        "fig.tight_layout()\n",
        "\n",
        "plt.show()\n"
      ],
      "metadata": {
        "colab": {
          "base_uri": "https://localhost:8080/",
          "height": 469
        },
        "id": "M02sDzmcE5If",
        "outputId": "d33e459f-41be-4f33-cd3d-d03073d9f50f"
      },
      "execution_count": 11,
      "outputs": [
        {
          "output_type": "display_data",
          "data": {
            "text/plain": [
              "<Figure size 1200x600 with 1 Axes>"
            ],
            "image/png": "[encoded data removed]"
          },
          "metadata": {}
        }
      ]
    },
    {
      "cell_type": "code",
      "source": [
        "print(\"nheads:\", nheads)\n",
        "print(\"accuracies:\", accuracies)\n",
        "print(\"f1_scores:\", f1_scores)\n",
        "print(\"precisions:\", precisions)\n",
        "print(\"recalls:\", recalls)"
      ],
      "metadata": {
        "colab": {
          "base_uri": "https://localhost:8080/"
        },
        "id": "2AV7ufnQE5LK",
        "outputId": "8ee9596a-005f-44cd-da64-a7ec4bc40b30"
      },
      "execution_count": 12,
      "outputs": [
        {
          "output_type": "stream",
          "name": "stdout",
          "text": [
            "nheads: [2, 3, 4, 5, 6, 7, 8, 9, 10]\n",
            "accuracies: [0.6314116150911403, 0.8548584616833875, 0.8842965475012953, 0.8847675568743818, 0.8918091470020253, 0.8911261834110499, 0.8977438651029156, 0.8845320521878386, 0.8949884602703594]\n",
            "f1_scores: [0.6080794607624213, 0.8363995984994207, 0.8680905472510936, 0.8683736116929807, 0.8784893068640683, 0.8750786446273434, 0.8887876649462082, 0.8687744026848431, 0.8802601569558449]\n",
            "precisions: [0.6900742608660202, 0.8755710778427694, 0.9095735123128229, 0.9137875792955837, 0.9202073548311643, 0.9230256764784139, 0.9105737179357994, 0.8973731266185565, 0.9219993843017428]\n",
            "recalls: [0.6314116150911403, 0.8548584616833875, 0.8842965475012953, 0.8847675568743818, 0.8918091470020253, 0.8911261834110499, 0.8977438651029156, 0.8845320521878386, 0.8949884602703594]\n"
          ]
        }
      ]
    },
    {
      "cell_type": "code",
      "source": [],
      "metadata": {
        "id": "Wru63M3Nlbk4"
      },
      "execution_count": null,
      "outputs": []
    }
  ]
}